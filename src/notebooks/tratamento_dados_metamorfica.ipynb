{
 "cells": [
  {
   "cell_type": "markdown",
   "metadata": {},
   "source": [
    "# Caracterização de eletrofáceis por meio de inteligência artificial com abordagem supervisionada\n",
    "## Reclassificação da litologia metamorfica em xisto ou filito"
   ]
  },
  {
   "cell_type": "markdown",
   "metadata": {},
   "source": [
    "- **Nome do Arquivo**: tratamento_dados_metamorfica.ipynb\n",
    "- **Autor**: Rafael Takeguma Goto\n",
    "- **Versão**: 1.0\n",
    "- **Data de Criação**: 11/07/2024\n",
    "- **Data de Modificação**: 13/07/2024"
   ]
  },
  {
   "cell_type": "markdown",
   "metadata": {},
   "source": [
    "### Descrição: \n",
    "Este notebook contém a etapa do trabalho referente à reclassificação da litologia METAMORFICA NAO IDE em XISTO ou FILITO.\n",
    "\n",
    "Para reclassificar a metamorfica, será utilizado um modelo de classificação de floresta aleatória, que utilizará as propriedades de perfis dos registros de xisto e filito para aprender e ser capaz de rotular a metamorfica como uma dessas duas litologias."
   ]
  },
  {
   "cell_type": "markdown",
   "metadata": {},
   "source": [
    "### Leitura do conjunto de dados\n",
    "\n",
    "O conjunto de dados é constituído por um arquivo csv, que é resultado da concatenação dos arquivos csv gerados a partir da fusão da extração dos arquivos dlis com os arquivos agp de cada poço, seguida da aplicação dos filtros de constantes, nulos e perfis (DCAL e DRHO)."
   ]
  },
  {
   "cell_type": "code",
   "execution_count": 1,
   "metadata": {},
   "outputs": [],
   "source": [
    "import pandas as pd\n",
    "\n",
    "path_pocos_pre_transicao = 'Dados-filtrados-concatenados\\pocos_pre_transicao.csv'\n",
    "\n",
    "dados_concatenados_leitura = pd.read_csv(path_pocos_pre_transicao)\n",
    "\n",
    "dados_concatenados = pd.DataFrame(dados_concatenados_leitura)"
   ]
  },
  {
   "cell_type": "markdown",
   "metadata": {},
   "source": [
    "### Separa os registros de XISTO e FILITO\n",
    "Separa as linhas (registros) em que a litologia é XISTO ou FILITO para treinar o modelo com base nesses dados."
   ]
  },
  {
   "cell_type": "code",
   "execution_count": 2,
   "metadata": {},
   "outputs": [],
   "source": [
    "dados_xisto_filito = dados_concatenados[(dados_concatenados['Litologia'] == 'XISTO') | (dados_concatenados['Litologia'] == 'FILITO')]"
   ]
  },
  {
   "cell_type": "code",
   "execution_count": 3,
   "metadata": {},
   "outputs": [
    {
     "name": "stdout",
     "output_type": "stream",
     "text": [
      "xisto: 540 registros\n",
      "filito: 202 registros\n"
     ]
    }
   ],
   "source": [
    "qtde_registros_xisto = len(dados_xisto_filito[dados_xisto_filito['Litologia'] == 'XISTO'])\n",
    "qtde_registros_filito = len(dados_xisto_filito[dados_xisto_filito['Litologia'] == 'FILITO'])\n",
    "\n",
    "print(f'xisto: {qtde_registros_xisto} registros')\n",
    "print(f'filito: {qtde_registros_filito} registros')"
   ]
  },
  {
   "cell_type": "markdown",
   "metadata": {},
   "source": [
    "### Divide os dados em treinamento e teste\n",
    "Divide os dados armazenados em dados_xisto_filito em 2/3 para treinamento do modelo, e 1/3 para teste do modelo."
   ]
  },
  {
   "cell_type": "code",
   "execution_count": 4,
   "metadata": {},
   "outputs": [],
   "source": [
    "from sklearn.model_selection import train_test_split\n",
    "\n",
    "# Define as variáveis que serão utilizadas (propriedades de perfis) \n",
    "propriedades = ['GR', 'DCAL', 'RESD', 'DT', 'RHOB', 'DRHO', 'NPHI', 'PE']\n",
    "\n",
    "# Separa as variáveis (propriedades de perfis) e armazena em X\n",
    "X = dados_xisto_filito[propriedades]\n",
    "\n",
    "# Separa a variável alvo (litologia) e armazena em y\n",
    "y = dados_xisto_filito['Litologia']\n",
    "\n",
    "# Divide os dados em 2/3 para treinamento e 1/3 para teste\n",
    "X_train, X_test, y_train, y_test = train_test_split(X, y, test_size=1/3, random_state=42)"
   ]
  },
  {
   "cell_type": "code",
   "execution_count": 5,
   "metadata": {},
   "outputs": [
    {
     "name": "stdout",
     "output_type": "stream",
     "text": [
      "xisto: 362 registros\n",
      "filito: 132 registros\n"
     ]
    }
   ],
   "source": [
    "litologia_treino = pd.DataFrame(y_train)\n",
    "\n",
    "qtde_registros_xisto_treino = len(litologia_treino[litologia_treino['Litologia'] == 'XISTO'])\n",
    "qtde_registros_filito_treino = len(litologia_treino[litologia_treino['Litologia'] == 'FILITO'])\n",
    "\n",
    "print(f'xisto: {qtde_registros_xisto_treino} registros')\n",
    "print(f'filito: {qtde_registros_filito_treino} registros')"
   ]
  },
  {
   "cell_type": "markdown",
   "metadata": {},
   "source": [
    "### Treinamento e teste do modelo\n",
    "Utiliza os dados de treinamento armazenados em X_train e y_train para treinar o modelo de classificação. De forma semelhante, utiliza os dados de teste armazenados em X_test e y_test para testar a acurácia do modelo."
   ]
  },
  {
   "cell_type": "code",
   "execution_count": 6,
   "metadata": {},
   "outputs": [
    {
     "name": "stdout",
     "output_type": "stream",
     "text": [
      "Acurácia do modelo: 0.995968\n"
     ]
    }
   ],
   "source": [
    "from sklearn.ensemble import RandomForestClassifier\n",
    "\n",
    "# Treina o modelo\n",
    "modelo = RandomForestClassifier()\n",
    "modelo.fit(X_train, y_train)\n",
    "\n",
    "# Testa o modelo\n",
    "acuracia = modelo.score(X_test, y_test)\n",
    "print(f\"Acurácia do modelo: {acuracia:2f}\")"
   ]
  },
  {
   "cell_type": "markdown",
   "metadata": {},
   "source": [
    "### Reclassificação dos registros de metamorfica\n",
    "Utiliza o modelo treinado acima para prever se os registros que possuem METAMORFICA NAO IDE como litologia tem afinidade para XISTO ou FILITO."
   ]
  },
  {
   "cell_type": "code",
   "execution_count": 7,
   "metadata": {},
   "outputs": [],
   "source": [
    "# Separa as linhas (registros) em que a litologia é METAMORFICA NAO IDE \n",
    "dados_metamorfica = dados_concatenados[dados_concatenados['Litologia'] == 'METAMORFICA NAO IDE']\n",
    "\n",
    "# Separa as propriedades das linhas em que a litologia é METAMORFICA NAO IDE \n",
    "propriedades_metamorfica = dados_metamorfica[X.columns]\n",
    "\n",
    "# Realiza a reclassificação da metamorfica para xisto ou filito, com base nas propriedades\n",
    "predicoes = modelo.predict(propriedades_metamorfica)"
   ]
  },
  {
   "cell_type": "markdown",
   "metadata": {},
   "source": [
    "### Novos registros de xisto e filito\n",
    "585 registros de metamorfica foram reclassificados. Segue abaixo a quantidade de registros reclassificados como filito e xisto, respectivamente. \n"
   ]
  },
  {
   "cell_type": "code",
   "execution_count": 8,
   "metadata": {},
   "outputs": [
    {
     "name": "stdout",
     "output_type": "stream",
     "text": [
      "FILITO: 5 registro(s)\n",
      "XISTO: 580 registro(s)\n"
     ]
    }
   ],
   "source": [
    "import numpy as np\n",
    "\n",
    "# Contagem de ocorrências de cada elemento único\n",
    "elementos_unicos, contagem = np.unique(predicoes, return_counts=True)\n",
    "\n",
    "# Exibindo os resultados\n",
    "for elemento, qtd in zip(elementos_unicos, contagem):\n",
    "    print(f\"{elemento}: {qtd} registro(s)\")"
   ]
  },
  {
   "cell_type": "markdown",
   "metadata": {},
   "source": [
    "### Reclassifica para classe majoritária\n",
    "Segundo os especialistas, as rochas metamórficas no embasamento não se misturam, logo se o algoritmo classificou a maioria como xisto e algumas poucas amostras como filito, todas as amostras devem ser xisto."
   ]
  },
  {
   "cell_type": "code",
   "execution_count": 9,
   "metadata": {},
   "outputs": [],
   "source": [
    "# reclassifica tudo como xisto \n",
    "dados_concatenados.loc[dados_concatenados['Litologia'] == 'METAMORFICA NAO IDE', 'Litologia'] = 'XISTO'"
   ]
  },
  {
   "cell_type": "markdown",
   "metadata": {},
   "source": [
    "### Boxplots dos registros reclassificados\n",
    "Boxplots das propriedades dos registros de metamorfica que foram reclassificados em xisto ou filito."
   ]
  },
  {
   "cell_type": "code",
   "execution_count": 10,
   "metadata": {},
   "outputs": [],
   "source": [
    "# Cria um dataframe para armazenar as litologias resultantes da reclassificação\n",
    "litologias_reclassificadas = pd.DataFrame(predicoes, columns=['Litologia'])\n",
    "\n",
    "# Cria um dataframe com as propriedades das linhas reclassificadas com o index resetado\n",
    "propriedades_reclassificadas = propriedades_metamorfica.reset_index(drop=True)\n",
    "\n",
    "# Concatena as litologias reclassificadas com as suas propriedades respectivas\n",
    "linhas_reclassificadas = pd.concat([litologias_reclassificadas, propriedades_reclassificadas], axis=1)"
   ]
  },
  {
   "cell_type": "code",
   "execution_count": 11,
   "metadata": {},
   "outputs": [],
   "source": [
    "import matplotlib.pyplot as plt \n",
    "\n",
    "def cria_boxplot(df, litologia, propriedade):\n",
    "    fig = plt.figure(figsize=(12, 6))\n",
    "    ax = fig.add_subplot(111)\n",
    "\n",
    "    # Filtra o dataframe para ficar apenas com os dados da litologia passada como argumento\n",
    "    dados_litologia = df[(df['Litologia'] == litologia)]\n",
    "\n",
    "    dados_propriedade = dados_litologia[propriedade]\n",
    "\n",
    "    # Criar o plot da propriedade\n",
    "    ax.boxplot(dados_propriedade)\n",
    "    \n",
    "    # Adiciona rótulos para os eixos e um título\n",
    "    ax.set_ylabel(propriedade, fontweight='bold')\n",
    "    ax.set_title(f'Boxplot da propriedade {propriedade} para metamorfica reclassificada como {litologia}', fontweight='bold')\n",
    " \n",
    "    # Remove traços do eixo x\n",
    "    ax.tick_params(axis='x', which='both', bottom=False, top=False) \n",
    "\n",
    "    ax.set_xticklabels([''])\n",
    "\n",
    "    # Ajusta layout para que tudo caiba na figura\n",
    "    plt.tight_layout() \n",
    "\n",
    "    return fig    "
   ]
  },
  {
   "cell_type": "code",
   "execution_count": 12,
   "metadata": {},
   "outputs": [],
   "source": [
    "import os\n",
    "from matplotlib.backends.backend_pdf import PdfPages\n",
    "\n",
    "# Litologias envolvidas na reclassificação\n",
    "litologias = ['XISTO', 'FILITO']\n",
    "\n",
    "propriedades = [\n",
    "    'DCAL',\n",
    "    'GR', \n",
    "    'RESD',\n",
    "    'DT',\n",
    "    'RHOB',\n",
    "    'DRHO',\n",
    "    'NPHI',\n",
    "    'PE'\n",
    "]\n",
    "\n",
    "# Caminho da pasta onde os arquivos PDF serão armazenados\n",
    "pasta_principal = 'Boxplots-reclassificacao/'\n",
    "os.makedirs(pasta_principal, exist_ok=True)\n",
    "\n",
    "# Itera sobre todas as litoligas\n",
    "for litologia in litologias:\n",
    "    # Cria pasta para a litologia\n",
    "    pasta_litologia = f'Boxplots-reclassificacao/{litologia}/'\n",
    "    os.makedirs(pasta_litologia, exist_ok=True)\n",
    "\n",
    "    # Itera sobre todas as propriedades\n",
    "    for propriedade in propriedades:\n",
    "        # Define o nome do arquivo pdf para a propriedade atual\n",
    "        pdf_propriedade = os.path.join(pasta_litologia, f'{propriedade}.pdf')\n",
    "\n",
    "        with PdfPages(pdf_propriedade) as pdf:\n",
    "            fig = cria_boxplot(linhas_reclassificadas, litologia, propriedade)\n",
    "                \n",
    "            # Salva o gráfico no arquivo PDF\n",
    "            pdf.savefig(fig) \n",
    "            plt.close(fig)"
   ]
  },
  {
   "cell_type": "markdown",
   "metadata": {},
   "source": [
    "### Exporta arquivo csv após reclassificação"
   ]
  },
  {
   "cell_type": "code",
   "execution_count": null,
   "metadata": {},
   "outputs": [],
   "source": [
    "dados_concatenados.to_csv('Dados-filtrados-concatenados/pocos_pre_transicao_v2.csv')"
   ]
  }
 ],
 "metadata": {
  "kernelspec": {
   "display_name": "Python 3",
   "language": "python",
   "name": "python3"
  },
  "language_info": {
   "codemirror_mode": {
    "name": "ipython",
    "version": 3
   },
   "file_extension": ".py",
   "mimetype": "text/x-python",
   "name": "python",
   "nbconvert_exporter": "python",
   "pygments_lexer": "ipython3",
   "version": "3.10.2"
  }
 },
 "nbformat": 4,
 "nbformat_minor": 2
}
