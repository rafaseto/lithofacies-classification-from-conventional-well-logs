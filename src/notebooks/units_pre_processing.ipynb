{
 "cells": [
  {
   "cell_type": "code",
   "execution_count": 1,
   "metadata": {},
   "outputs": [],
   "source": [
    "import pandas as pd"
   ]
  },
  {
   "cell_type": "code",
   "execution_count": 2,
   "metadata": {},
   "outputs": [],
   "source": [
    "path_pocos_pre_transicao = 'Dados-filtrados-concatenados\\pocos_pre_transicao_v2.csv'\n",
    "\n",
    "dados_concatenados_leitura = pd.read_csv(path_pocos_pre_transicao)\n",
    "\n",
    "dados_concatenados = pd.DataFrame(dados_concatenados_leitura)"
   ]
  },
  {
   "cell_type": "code",
   "execution_count": 3,
   "metadata": {},
   "outputs": [],
   "source": [
    "# renomeia abreviaturas das unidades formação\n",
    "dados_concatenados.loc[dados_concatenados['UnidadeF'] == 'COTING', 'UnidadeF'] = 'COT'\n",
    "dados_concatenados.loc[dados_concatenados['UnidadeF'] == 'SERRAR', 'UnidadeF'] = 'SER'\n",
    "dados_concatenados.loc[dados_concatenados['UnidadeF'] == 'BATING', 'UnidadeF'] = 'BAT'\n",
    "dados_concatenados.loc[dados_concatenados['UnidadeF'] == 'ARACAR', 'UnidadeF'] = 'ARA'\n",
    "dados_concatenados.loc[dados_concatenados['UnidadeF'] == 'PENEDO', 'UnidadeF'] = 'PDO'\n",
    "dados_concatenados.loc[dados_concatenados['UnidadeF'] == 'RIACHU', 'UnidadeF'] = 'RIA'\n",
    "dados_concatenados.loc[dados_concatenados['UnidadeF'] == 'BANANE', 'UnidadeF'] = 'BAN'\n",
    "dados_concatenados.loc[dados_concatenados['UnidadeF'] == 'MURIBE', 'UnidadeF'] = 'MUR'\n",
    "dados_concatenados.loc[dados_concatenados['UnidadeF'] == 'EMBASA', 'UnidadeF'] = 'EMB'\n",
    "dados_concatenados.loc[dados_concatenados['UnidadeF'] == 'BARRRS', 'UnidadeF'] = 'BAR'\n",
    "\n",
    "# renomeia abreviaturas das unidades membro\n",
    "dados_concatenados.loc[dados_concatenados['UnidadeM'] == 'SAPUCA', 'UnidadeM'] = 'SAP'\n",
    "dados_concatenados.loc[dados_concatenados['UnidadeM'] == 'SERRAR', 'UnidadeM'] = 'SER'\n",
    "dados_concatenados.loc[dados_concatenados['UnidadeM'] == 'ARACAR', 'UnidadeM'] = 'ARA'\n",
    "dados_concatenados.loc[dados_concatenados['UnidadeM'] == 'BATING', 'UnidadeM'] = 'BAT'\n",
    "dados_concatenados.loc[dados_concatenados['UnidadeM'] == 'PENEDO', 'UnidadeM'] = 'PDO'\n",
    "dados_concatenados.loc[dados_concatenados['UnidadeM'] == 'BANANE', 'UnidadeM'] = 'BAN'\n",
    "dados_concatenados.loc[dados_concatenados['UnidadeM'] == 'EMBASA', 'UnidadeM'] = 'EMB'\n",
    "dados_concatenados.loc[dados_concatenados['UnidadeM'] == 'TAQUAR', 'UnidadeM'] = 'TQR'\n",
    "dados_concatenados.loc[dados_concatenados['UnidadeM'] == 'MARUIM', 'UnidadeM'] = 'MAR'\n",
    "dados_concatenados.loc[dados_concatenados['UnidadeM'] == 'ANGICO', 'UnidadeM'] = 'ANG'\n",
    "dados_concatenados.loc[dados_concatenados['UnidadeM'] == 'OITEIR', 'UnidadeM'] = 'OIT'\n",
    "dados_concatenados.loc[dados_concatenados['UnidadeM'] == 'IBURA', 'UnidadeM'] = 'IBU'\n",
    "dados_concatenados.loc[dados_concatenados['UnidadeM'] == 'CARMOP', 'UnidadeM'] = 'CPS'\n",
    "dados_concatenados.loc[dados_concatenados['UnidadeM'] == 'BARRRS', 'UnidadeM'] = 'BAR'"
   ]
  },
  {
   "cell_type": "code",
   "execution_count": 4,
   "metadata": {},
   "outputs": [],
   "source": [
    "# Criando uma coluna para unidade em nível de membro\n",
    "dados_concatenados['Unidade_nivel_membro'] = dados_concatenados['UnidadeF'] + '_' + dados_concatenados['UnidadeM']"
   ]
  },
  {
   "cell_type": "code",
   "execution_count": 5,
   "metadata": {},
   "outputs": [
    {
     "data": {
      "text/plain": [
       "array(['RIA_ANG', 'MUR_OIT', 'MUR_IBU', 'MUR_CPS', 'EMB_EMB', 'RIA_MAR',\n",
       "       'RIA_TQR', 'BAN_BAN', 'PDO_PDO', 'BAR_BAR', 'SER_SER', 'ARA_ARA',\n",
       "       'BAT_BAT', 'COT_SAP'], dtype=object)"
      ]
     },
     "execution_count": 5,
     "metadata": {},
     "output_type": "execute_result"
    }
   ],
   "source": [
    "dados_concatenados['Unidade_nivel_membro'].unique()"
   ]
  },
  {
   "cell_type": "code",
   "execution_count": 6,
   "metadata": {},
   "outputs": [],
   "source": [
    "# Aplicando One-Hot Encoding\n",
    "dados_concatenados = pd.get_dummies(dados_concatenados, columns=['Unidade_nivel_membro'])"
   ]
  },
  {
   "cell_type": "code",
   "execution_count": 7,
   "metadata": {},
   "outputs": [
    {
     "name": "stdout",
     "output_type": "stream",
     "text": [
      "Arquivo Dados-filtrados-concatenados\\pocos_pre_transicao_v3.csv criado com sucesso.\n"
     ]
    }
   ],
   "source": [
    "filename = f\"Dados-filtrados-concatenados\\pocos_pre_transicao_v3.csv\"\n",
    "dados_concatenados.to_csv(filename, index=False)\n",
    "print(f\"Arquivo {filename} criado com sucesso.\")"
   ]
  }
 ],
 "metadata": {
  "kernelspec": {
   "display_name": "venv",
   "language": "python",
   "name": "python3"
  },
  "language_info": {
   "codemirror_mode": {
    "name": "ipython",
    "version": 3
   },
   "file_extension": ".py",
   "mimetype": "text/x-python",
   "name": "python",
   "nbconvert_exporter": "python",
   "pygments_lexer": "ipython3",
   "version": "3.10.2"
  }
 },
 "nbformat": 4,
 "nbformat_minor": 2
}
