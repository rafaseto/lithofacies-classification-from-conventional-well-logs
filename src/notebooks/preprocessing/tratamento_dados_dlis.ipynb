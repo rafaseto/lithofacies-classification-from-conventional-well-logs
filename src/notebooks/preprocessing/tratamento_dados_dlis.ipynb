{
 "cells": [
  {
   "cell_type": "markdown",
   "metadata": {},
   "source": [
    "## Importa funções para o pré-processamento"
   ]
  },
  {
   "cell_type": "code",
   "execution_count": 1,
   "metadata": {},
   "outputs": [],
   "source": [
    "from pre_processamento import *\n",
    "\n",
    "from dlisio import dlis\n",
    "import pandas as pd\n",
    "import numpy as np\n",
    "\n",
    "# A função 'glob' do módulo 'glob' é usada para procurar todos os arquivos em um diretório com determinada extensão\n",
    "import glob"
   ]
  },
  {
   "cell_type": "markdown",
   "metadata": {},
   "source": [
    "## Carregamento dos dados"
   ]
  },
  {
   "cell_type": "markdown",
   "metadata": {},
   "source": [
    "Para a realizar a busca por arquivos com extensão .dlis na pasta Dados-dlis, foi utilizada a função **glob()** da biblioteca glob.\n",
    "\n",
    "A leitura dos dados é feita com a função **load()** da biblioteca dlisio.\n",
    "\n",
    "São armazenados três tipos de dados:\n",
    "* **Nome do arquivo** na lista **nomes_arquivos**\n",
    "\n",
    "* **Dados das curvas** na lista **leituras_dlis**\n",
    "\n",
    "* **Nome do poço** na lista **nomes_anp**"
   ]
  },
  {
   "cell_type": "code",
   "execution_count": 2,
   "metadata": {},
   "outputs": [],
   "source": [
    "for file in glob.glob(r'**/dados/emendas' + \"/*.dlis\", recursive=True):\n",
    "    with dlis.load(file) as files:\n",
    "        files.describe()"
   ]
  },
  {
   "cell_type": "code",
   "execution_count": 3,
   "metadata": {},
   "outputs": [
    {
     "data": {
      "text/plain": [
       "-------------\n",
       "Physical File\n",
       "-------------\n",
       "Number of Logical Files : 14\n",
       "\n",
       "Description : LogicalFile(1MO  0001  SEBRA1MO  0001  SE1)\n",
       "Frames      : 1\n",
       "Channels    : 2\n",
       "\n",
       "Description : LogicalFile(1MO  0001  SEBRA1MO  0001  SE2)\n",
       "Frames      : 1\n",
       "Channels    : 2\n",
       "\n",
       "Description : LogicalFile(1MO  0001  SEBRA1MO  0001  SE3)\n",
       "Frames      : 1\n",
       "Channels    : 2\n",
       "\n",
       "Description : LogicalFile(1MO  0001  SEBRA1MO  0001  SE4)\n",
       "Frames      : 1\n",
       "Channels    : 2\n",
       "\n",
       "Description : LogicalFile(1MO  0001  SEBRA1MO  0001  SE5)\n",
       "Frames      : 1\n",
       "Channels    : 2\n",
       "\n",
       "Description : LogicalFile(1MO  0001  SEBRA1MO  0001  SE6)\n",
       "Frames      : 1\n",
       "Channels    : 2\n",
       "\n",
       "Description : LogicalFile(1MO  0001  SEBRA1MO  0001  SE7)\n",
       "Frames      : 1\n",
       "Channels    : 2\n",
       "\n",
       "Description : LogicalFile(1MO  0001  SEBRA1MO  0001  SE8)\n",
       "Frames      : 1\n",
       "Channels    : 3\n",
       "\n",
       "Description : LogicalFile(1MO  0001  SEBRA1MO  0001  SE9)\n",
       "Frames      : 1\n",
       "Channels    : 5\n",
       "\n",
       "Description : LogicalFile(1MO  0001  SEBRA1MO  0001  SE10)\n",
       "Frames      : 1\n",
       "Channels    : 5\n",
       "\n",
       "Description : LogicalFile(1MO  0001  SEBRA1MO  0001  SE11)\n",
       "Frames      : 1\n",
       "Channels    : 5\n",
       "\n",
       "Description : LogicalFile(1MO  0001  SEBRA1MO  0001  SE12)\n",
       "Frames      : 1\n",
       "Channels    : 5\n",
       "\n",
       "Description : LogicalFile(1MO  0001  SEBRA1MO  0001  SE13)\n",
       "Frames      : 1\n",
       "Channels    : 2\n",
       "\n",
       "Description : LogicalFile(1MO  0001  SEBRA1MO  0001  SE14)\n",
       "Frames      : 1\n",
       "Channels    : 2\n"
      ]
     },
     "execution_count": 3,
     "metadata": {},
     "output_type": "execute_result"
    }
   ],
   "source": [
    "files.describe()"
   ]
  },
  {
   "cell_type": "code",
   "execution_count": 4,
   "metadata": {},
   "outputs": [],
   "source": [
    "with dlis.load(\"dados/emendas/1MO__0001__SE_1MO__0001__SE.dlis\") as (f1,f2,f3,f4,f5,f6,f7,f8,f9,f10,f11,f12,f13,f14):\n",
    "    pass"
   ]
  },
  {
   "cell_type": "code",
   "execution_count": 5,
   "metadata": {},
   "outputs": [
    {
     "name": "stdout",
     "output_type": "stream",
     "text": [
      "Curvas extraídas do: LogicalFile(1MO  0001  SEBRA1MO  0001  SE1)\n",
      "Channel(DUMM)\n",
      "Channel(INDEX2749)\n"
     ]
    }
   ],
   "source": [
    "print(f'Curvas extraídas do: {f1}')\n",
    "for ch in f1.channels:\n",
    "    print(ch)"
   ]
  },
  {
   "cell_type": "code",
   "execution_count": 6,
   "metadata": {},
   "outputs": [
    {
     "name": "stdout",
     "output_type": "stream",
     "text": [
      "Curvas extraídas do: LogicalFile(1MO  0001  SEBRA1MO  0001  SE2)\n",
      "Channel(DUMM)\n",
      "Channel(INDEX2749)\n"
     ]
    }
   ],
   "source": [
    "print(f'Curvas extraídas do: {f2}')\n",
    "for ch in f2.channels:\n",
    "    print(ch)"
   ]
  },
  {
   "cell_type": "code",
   "execution_count": 7,
   "metadata": {},
   "outputs": [
    {
     "name": "stdout",
     "output_type": "stream",
     "text": [
      "Curvas extraídas do: LogicalFile(1MO  0001  SEBRA1MO  0001  SE3)\n",
      "Channel(DUMM)\n",
      "Channel(INDEX2749)\n"
     ]
    }
   ],
   "source": [
    "print(f'Curvas extraídas do: {f3}')\n",
    "for ch in f3.channels:\n",
    "    print(ch)"
   ]
  },
  {
   "cell_type": "code",
   "execution_count": 8,
   "metadata": {},
   "outputs": [
    {
     "name": "stdout",
     "output_type": "stream",
     "text": [
      "Curvas extraídas do: LogicalFile(1MO  0001  SEBRA1MO  0001  SE4)\n",
      "Channel(DUMM)\n",
      "Channel(INDEX2749)\n"
     ]
    }
   ],
   "source": [
    "print(f'Curvas extraídas do: {f4}')\n",
    "for ch in f4.channels:\n",
    "    print(ch)"
   ]
  },
  {
   "cell_type": "code",
   "execution_count": 9,
   "metadata": {},
   "outputs": [
    {
     "name": "stdout",
     "output_type": "stream",
     "text": [
      "Curvas extraídas do: LogicalFile(1MO  0001  SEBRA1MO  0001  SE5)\n",
      "Channel(DUMM)\n",
      "Channel(INDEX2750)\n"
     ]
    }
   ],
   "source": [
    "print(f'Curvas extraídas do: {f5}')\n",
    "for ch in f5.channels:\n",
    "    print(ch)"
   ]
  },
  {
   "cell_type": "code",
   "execution_count": 10,
   "metadata": {},
   "outputs": [
    {
     "name": "stdout",
     "output_type": "stream",
     "text": [
      "Curvas extraídas do: LogicalFile(1MO  0001  SEBRA1MO  0001  SE6)\n",
      "Channel(DUMM)\n",
      "Channel(INDEX2750)\n"
     ]
    }
   ],
   "source": [
    "print(f'Curvas extraídas do: {f6}')\n",
    "for ch in f6.channels:\n",
    "    print(ch)"
   ]
  },
  {
   "cell_type": "code",
   "execution_count": 11,
   "metadata": {},
   "outputs": [
    {
     "name": "stdout",
     "output_type": "stream",
     "text": [
      "Curvas extraídas do: LogicalFile(1MO  0001  SEBRA1MO  0001  SE7)\n",
      "Channel(DT)\n",
      "Channel(INDEX2750)\n"
     ]
    }
   ],
   "source": [
    "print(f'Curvas extraídas do: {f7}')\n",
    "for ch in f7.channels:\n",
    "    print(ch)"
   ]
  },
  {
   "cell_type": "code",
   "execution_count": 12,
   "metadata": {},
   "outputs": [
    {
     "name": "stdout",
     "output_type": "stream",
     "text": [
      "Curvas extraídas do: LogicalFile(1MO  0001  SEBRA1MO  0001  SE8)\n",
      "Channel(NEUT)\n",
      "Channel(GR)\n",
      "Channel(INDEX2750)\n"
     ]
    }
   ],
   "source": [
    "print(f'Curvas extraídas do: {f8}')\n",
    "for ch in f8.channels:\n",
    "    print(ch)"
   ]
  },
  {
   "cell_type": "code",
   "execution_count": 13,
   "metadata": {},
   "outputs": [
    {
     "name": "stdout",
     "output_type": "stream",
     "text": [
      "Curvas extraídas do: LogicalFile(1MO  0001  SEBRA1MO  0001  SE9)\n",
      "Channel(RLN)\n",
      "Channel(RSN)\n",
      "Channel(SP)\n",
      "Channel(RLAT)\n",
      "Channel(INDEX2751)\n"
     ]
    }
   ],
   "source": [
    "print(f'Curvas extraídas do: {f9}')\n",
    "for ch in f9.channels:\n",
    "    print(ch)"
   ]
  },
  {
   "cell_type": "code",
   "execution_count": 14,
   "metadata": {},
   "outputs": [
    {
     "name": "stdout",
     "output_type": "stream",
     "text": [
      "Curvas extraídas do: LogicalFile(1MO  0001  SEBRA1MO  0001  SE10)\n",
      "Channel(RLN)\n",
      "Channel(RSN)\n",
      "Channel(SP)\n",
      "Channel(RLAT)\n",
      "Channel(INDEX2751)\n"
     ]
    }
   ],
   "source": [
    "print(f'Curvas extraídas do: {f10}')\n",
    "for ch in f10.channels:\n",
    "    print(ch)"
   ]
  },
  {
   "cell_type": "code",
   "execution_count": 15,
   "metadata": {},
   "outputs": [
    {
     "name": "stdout",
     "output_type": "stream",
     "text": [
      "Curvas extraídas do: LogicalFile(1MO  0001  SEBRA1MO  0001  SE11)\n",
      "Channel(RLN)\n",
      "Channel(RSN)\n",
      "Channel(SP)\n",
      "Channel(RLAT)\n",
      "Channel(INDEX2752)\n"
     ]
    }
   ],
   "source": [
    "print(f'Curvas extraídas do: {f11}')\n",
    "for ch in f11.channels:\n",
    "    print(ch)"
   ]
  },
  {
   "cell_type": "code",
   "execution_count": 16,
   "metadata": {},
   "outputs": [
    {
     "name": "stdout",
     "output_type": "stream",
     "text": [
      "Curvas extraídas do: LogicalFile(1MO  0001  SEBRA1MO  0001  SE12)\n",
      "Channel(RLN)\n",
      "Channel(RSN)\n",
      "Channel(SP)\n",
      "Channel(RLAT)\n",
      "Channel(INDEX2752)\n"
     ]
    }
   ],
   "source": [
    "print(f'Curvas extraídas do: {f12}')\n",
    "for ch in f12.channels:\n",
    "    print(ch)"
   ]
  },
  {
   "cell_type": "code",
   "execution_count": 17,
   "metadata": {},
   "outputs": [
    {
     "name": "stdout",
     "output_type": "stream",
     "text": [
      "Curvas extraídas do: LogicalFile(1MO  0001  SEBRA1MO  0001  SE13)\n",
      "Channel(RLL7)\n",
      "Channel(INDEX2753)\n"
     ]
    }
   ],
   "source": [
    "print(f'Curvas extraídas do: {f13}')\n",
    "for ch in f13.channels:\n",
    "    print(ch)"
   ]
  },
  {
   "cell_type": "code",
   "execution_count": 18,
   "metadata": {},
   "outputs": [
    {
     "name": "stdout",
     "output_type": "stream",
     "text": [
      "Curvas extraídas do: LogicalFile(1MO  0001  SEBRA1MO  0001  SE14)\n",
      "Channel(SP)\n",
      "Channel(INDEX2753)\n"
     ]
    }
   ],
   "source": [
    "print(f'Curvas extraídas do: {f14}')\n",
    "for ch in f14.channels:\n",
    "    print(ch)"
   ]
  },
  {
   "cell_type": "code",
   "execution_count": 19,
   "metadata": {},
   "outputs": [
    {
     "ename": "TypeError",
     "evalue": "'list' object is not callable",
     "output_type": "error",
     "traceback": [
      "\u001b[1;31m---------------------------------------------------------------------------\u001b[0m",
      "\u001b[1;31mTypeError\u001b[0m                                 Traceback (most recent call last)",
      "Cell \u001b[1;32mIn[19], line 1\u001b[0m\n\u001b[1;32m----> 1\u001b[0m dados_curva \u001b[38;5;241m=\u001b[39m [tupla[\u001b[38;5;241m0\u001b[39m] \u001b[38;5;28;01mfor\u001b[39;00m tupla \u001b[38;5;129;01min\u001b[39;00m \u001b[43mf8\u001b[49m\u001b[38;5;241;43m.\u001b[39;49m\u001b[43mframes\u001b[49m\u001b[43m(\u001b[49m\u001b[43m)\u001b[49m]\n",
      "\u001b[1;31mTypeError\u001b[0m: 'list' object is not callable"
     ]
    }
   ],
   "source": [
    "dados_curva = [tupla[0] for tupla in f8.frames()]"
   ]
  },
  {
   "cell_type": "code",
   "execution_count": 21,
   "metadata": {},
   "outputs": [
    {
     "ename": "",
     "evalue": "",
     "output_type": "error",
     "traceback": [
      "\u001b[1;31mThe Kernel crashed while executing code in the current cell or a previous cell. \n",
      "\u001b[1;31mPlease review the code in the cell(s) to identify a possible cause of the failure. \n",
      "\u001b[1;31mClick <a href='https://aka.ms/vscodeJupyterKernelCrash'>here</a> for more info. \n",
      "\u001b[1;31mView Jupyter <a href='command:jupyter.viewOutput'>log</a> for further details."
     ]
    }
   ],
   "source": [
    "curve = ch.curves()"
   ]
  },
  {
   "cell_type": "code",
   "execution_count": 2,
   "metadata": {},
   "outputs": [],
   "source": [
    "nomes_arquivos = []     # Armazena os nomes dos arquivos .dlis\n",
    "leituras_dlis = {}      # Armazena as leituras dos arquivos .dlis\n",
    "nomes_anp = []          # Armazemina os nomes obtidos das leituras\n",
    "\n",
    "for file in glob.glob(r'**/dados/emendas' + \"/*.dlis\", recursive=True):\n",
    "    try:\n",
    "        # Salva o nome do arquivo\n",
    "        nomes_arquivos.append(file)\n",
    "\n",
    "        # Realiza a leitura do arquivo dlis\n",
    "        leitura, *tail = dlis.load(f'{file}')\n",
    "\n",
    "        # Salva o nome do poço\n",
    "        nome = leitura.origins[0].well_name\n",
    "        nomes_anp.append(nome)\n",
    "\n",
    "        # Salva os dados da leitura no dicionário 'leituras_dlis'\n",
    "        leituras_dlis[nome] = [leitura] + tail\n",
    "    except:\n",
    "        print(nome)"
   ]
  },
  {
   "cell_type": "code",
   "execution_count": 3,
   "metadata": {},
   "outputs": [
    {
     "data": {
      "text/plain": [
       "{'1CSC 0001  SE': [LogicalFile(1CSC 0001  SEBRA1CSC 0001  SE1),\n",
       "  LogicalFile(1CSC 0001  SEBRA1CSC 0001  SE2),\n",
       "  LogicalFile(1CSC 0001  SEBRA1CSC 0001  SE3),\n",
       "  LogicalFile(1CSC 0001  SEBRA1CSC 0001  SE4),\n",
       "  LogicalFile(1CSC 0001  SEBRA1CSC 0001  SE5),\n",
       "  LogicalFile(1CSC 0001  SEBRA1CSC 0001  SE6),\n",
       "  LogicalFile(1CSC 0001  SEBRA1CSC 0001  SE7),\n",
       "  LogicalFile(1CSC 0001  SEBRA1CSC 0001  SE8),\n",
       "  LogicalFile(1CSC 0001  SEBRA1CSC 0001  SE9),\n",
       "  LogicalFile(1CSC 0001  SEBRA1CSC 0001  SE10),\n",
       "  LogicalFile(1CSC 0001  SEBRA1CSC 0001  SE11),\n",
       "  LogicalFile(1CSC 0001  SEBRA1CSC 0001  SE12),\n",
       "  LogicalFile(1CSC 0001  SEBRA1CSC 0001  SE13),\n",
       "  LogicalFile(1CSC 0001  SEBRA1CSC 0001  SE14)],\n",
       " '1IDA 0001  SE': [LogicalFile(1IDA 0001  SEBRA1IDA 0001  SE1),\n",
       "  LogicalFile(1IDA 0001  SEBRA1IDA 0001  SE2),\n",
       "  LogicalFile(1IDA 0001  SEBRA1IDA 0001  SE3),\n",
       "  LogicalFile(1IDA 0001  SEBRA1IDA 0001  SE4),\n",
       "  LogicalFile(1IDA 0001  SEBRA1IDA 0001  SE5),\n",
       "  LogicalFile(1IDA 0001  SEBRA1IDA 0001  SE6)],\n",
       " '1IV  0002  SE': [LogicalFile(1IV  0002  SEBRA1IV  0002  SE1),\n",
       "  LogicalFile(1IV  0002  SEBRA1IV  0002  SE2),\n",
       "  LogicalFile(1IV  0002  SEBRA1IV  0002  SE3),\n",
       "  LogicalFile(1IV  0002  SEBRA1IV  0002  SE4),\n",
       "  LogicalFile(1IV  0002  SEBRA1IV  0002  SE5),\n",
       "  LogicalFile(1IV  0002  SEBRA1IV  0002  SE6),\n",
       "  LogicalFile(1IV  0002  SEBRA1IV  0002  SE7),\n",
       "  LogicalFile(1IV  0002  SEBRA1IV  0002  SE8),\n",
       "  LogicalFile(1IV  0002  SEBRA1IV  0002  SE9),\n",
       "  LogicalFile(1IV  0002  SEBRA1IV  0002  SE10),\n",
       "  LogicalFile(1IV  0002  SEBRA1IV  0002  SE11),\n",
       "  LogicalFile(1IV  0002  SEBRA1IV  0002  SE12)],\n",
       " '1MO  0001  SE': [LogicalFile(1MO  0001  SEBRA1MO  0001  SE1),\n",
       "  LogicalFile(1MO  0001  SEBRA1MO  0001  SE2),\n",
       "  LogicalFile(1MO  0001  SEBRA1MO  0001  SE3),\n",
       "  LogicalFile(1MO  0001  SEBRA1MO  0001  SE4),\n",
       "  LogicalFile(1MO  0001  SEBRA1MO  0001  SE5),\n",
       "  LogicalFile(1MO  0001  SEBRA1MO  0001  SE6),\n",
       "  LogicalFile(1MO  0001  SEBRA1MO  0001  SE7),\n",
       "  LogicalFile(1MO  0001  SEBRA1MO  0001  SE8),\n",
       "  LogicalFile(1MO  0001  SEBRA1MO  0001  SE9),\n",
       "  LogicalFile(1MO  0001  SEBRA1MO  0001  SE10),\n",
       "  LogicalFile(1MO  0001  SEBRA1MO  0001  SE11),\n",
       "  LogicalFile(1MO  0001  SEBRA1MO  0001  SE12),\n",
       "  LogicalFile(1MO  0001  SEBRA1MO  0001  SE13),\n",
       "  LogicalFile(1MO  0001  SEBRA1MO  0001  SE14)]}"
      ]
     },
     "execution_count": 3,
     "metadata": {},
     "output_type": "execute_result"
    }
   ],
   "source": [
    "leituras_dlis"
   ]
  },
  {
   "cell_type": "code",
   "execution_count": 26,
   "metadata": {},
   "outputs": [
    {
     "data": {
      "text/plain": [
       "[LogicalFile(1CSC 0001  SEBRA1CSC 0001  SE1),\n",
       " LogicalFile(1CSC 0001  SEBRA1CSC 0001  SE2),\n",
       " LogicalFile(1CSC 0001  SEBRA1CSC 0001  SE3),\n",
       " LogicalFile(1CSC 0001  SEBRA1CSC 0001  SE4),\n",
       " LogicalFile(1CSC 0001  SEBRA1CSC 0001  SE5),\n",
       " LogicalFile(1CSC 0001  SEBRA1CSC 0001  SE6),\n",
       " LogicalFile(1CSC 0001  SEBRA1CSC 0001  SE7),\n",
       " LogicalFile(1CSC 0001  SEBRA1CSC 0001  SE8),\n",
       " LogicalFile(1CSC 0001  SEBRA1CSC 0001  SE9),\n",
       " LogicalFile(1CSC 0001  SEBRA1CSC 0001  SE10),\n",
       " LogicalFile(1CSC 0001  SEBRA1CSC 0001  SE11),\n",
       " LogicalFile(1CSC 0001  SEBRA1CSC 0001  SE12),\n",
       " LogicalFile(1CSC 0001  SEBRA1CSC 0001  SE13),\n",
       " LogicalFile(1CSC 0001  SEBRA1CSC 0001  SE14)]"
      ]
     },
     "execution_count": 26,
     "metadata": {},
     "output_type": "execute_result"
    }
   ],
   "source": [
    "leituras_dlis['1CSC 0001  SE']"
   ]
  },
  {
   "cell_type": "code",
   "execution_count": 16,
   "metadata": {},
   "outputs": [
    {
     "data": {
      "text/plain": [
       "['1CSC 0001  SE', '1IDA 0001  SE', '1IV  0002  SE', '1MO  0001  SE']"
      ]
     },
     "execution_count": 16,
     "metadata": {},
     "output_type": "execute_result"
    }
   ],
   "source": [
    "nomes_anp"
   ]
  },
  {
   "cell_type": "markdown",
   "metadata": {},
   "source": [
    "## Cria dicionário para armazenar os dados e respectivos nomes"
   ]
  },
  {
   "cell_type": "code",
   "execution_count": 15,
   "metadata": {},
   "outputs": [
    {
     "data": {
      "text/plain": [
       "{'1CSC 0001  SE': LogicalFile(1CSC 0001  SEBRA1CSC 0001  SE1),\n",
       " '1IDA 0001  SE': LogicalFile(1CSC 0001  SEBRA1CSC 0001  SE2),\n",
       " '1IV  0002  SE': LogicalFile(1CSC 0001  SEBRA1CSC 0001  SE3),\n",
       " '1MO  0001  SE': LogicalFile(1CSC 0001  SEBRA1CSC 0001  SE4)}"
      ]
     },
     "execution_count": 15,
     "metadata": {},
     "output_type": "execute_result"
    }
   ],
   "source": [
    "# Casa itens da lista 'nome_anp_abreviados' com os itens da lista 'leituras_dlis'\n",
    "pares = zip(nomes_anp, leituras_dlis)\n",
    "\n",
    "# Cria dicionário 'dli_dict'\n",
    "dli_dict = dict(pares)\n",
    "dli_dict"
   ]
  },
  {
   "cell_type": "code",
   "execution_count": 5,
   "metadata": {},
   "outputs": [
    {
     "ename": "KeyError",
     "evalue": "'1CSC 0001  SE'",
     "output_type": "error",
     "traceback": [
      "\u001b[1;31m---------------------------------------------------------------------------\u001b[0m",
      "\u001b[1;31mKeyError\u001b[0m                                  Traceback (most recent call last)",
      "Cell \u001b[1;32mIn[5], line 1\u001b[0m\n\u001b[1;32m----> 1\u001b[0m \u001b[43mdli_dict\u001b[49m\u001b[43m[\u001b[49m\u001b[38;5;124;43m'\u001b[39;49m\u001b[38;5;124;43m1CSC 0001  SE\u001b[39;49m\u001b[38;5;124;43m'\u001b[39;49m\u001b[43m]\u001b[49m\n",
      "\u001b[1;31mKeyError\u001b[0m: '1CSC 0001  SE'"
     ]
    }
   ],
   "source": [
    "dli_dict['1CSC 0001  SE']"
   ]
  },
  {
   "cell_type": "markdown",
   "metadata": {},
   "source": [
    "## Separa TODAS as curvas presentes nos .dlis de cada poço\n",
    "#### Para visualizar as curvas obtidas a partir da extração dos .dlis serão criados arquivos .csv com essas curvas presentes nos .dlis de cada poço."
   ]
  },
  {
   "cell_type": "code",
   "execution_count": 4,
   "metadata": {},
   "outputs": [],
   "source": [
    "channels_dict = {}\n",
    "\n",
    "for key, logical_files in leituras_dlis.items():\n",
    "    channels_list = []\n",
    "    for file in logical_files:\n",
    "        for frame in file.frames:\n",
    "            channels = frame.channels\n",
    "            channels_list.append([channel.name for channel in channels])\n",
    "\n",
    "    channels_dict[key] = sum(channels_list, [])"
   ]
  },
  {
   "cell_type": "code",
   "execution_count": 5,
   "metadata": {},
   "outputs": [
    {
     "data": {
      "text/plain": [
       "['INDEX2749',\n",
       " 'DUMM',\n",
       " 'INDEX2749',\n",
       " 'DUMM',\n",
       " 'INDEX2749',\n",
       " 'DUMM',\n",
       " 'INDEX2749',\n",
       " 'DUMM',\n",
       " 'INDEX2750',\n",
       " 'DUMM',\n",
       " 'INDEX2750',\n",
       " 'DUMM',\n",
       " 'INDEX2750',\n",
       " 'DT',\n",
       " 'INDEX2750',\n",
       " 'NEUT',\n",
       " 'GR',\n",
       " 'INDEX2751',\n",
       " 'RLN',\n",
       " 'RSN',\n",
       " 'SP',\n",
       " 'RLAT',\n",
       " 'INDEX2751',\n",
       " 'RLN',\n",
       " 'RSN',\n",
       " 'SP',\n",
       " 'RLAT',\n",
       " 'INDEX2752',\n",
       " 'RLN',\n",
       " 'RSN',\n",
       " 'SP',\n",
       " 'RLAT',\n",
       " 'INDEX2752',\n",
       " 'RLN',\n",
       " 'RSN',\n",
       " 'SP',\n",
       " 'RLAT',\n",
       " 'INDEX2753',\n",
       " 'RLL7',\n",
       " 'INDEX2753',\n",
       " 'SP']"
      ]
     },
     "execution_count": 5,
     "metadata": {},
     "output_type": "execute_result"
    }
   ],
   "source": [
    "channels_dict['1MO  0001  SE']"
   ]
  },
  {
   "cell_type": "code",
   "execution_count": 6,
   "metadata": {},
   "outputs": [
    {
     "name": "stdout",
     "output_type": "stream",
     "text": [
      "Curvas extraídas de 1CSC 0001  SE:\n",
      "['INDEX1130', 'CALI', 'DT', 'GR', 'ILD', 'SFLU', 'SP', 'TENS', 'TT1', 'TT2', 'TT3', 'AMP', 'INDEX1132', 'DUMM', 'INDEX1132', 'DUMM', 'INDEX1132', 'DUMM', 'INDEX1133', 'DUMM', 'INDEX1133', 'DUMM', 'INDEX1134', 'DUMM', 'INDEX1134', 'DUMM', 'INDEX1134', 'DUMM', 'INDEX1135', 'DUMM', 'INDEX1136', 'CALI', 'DT', 'GR', 'ILD', 'SFLU', 'SP', 'TENS', 'TT1', 'TT2', 'TT3', 'AMP', 'INDEX1138', 'DRHO', 'FCNL', 'FFDC', 'GR', 'NCNL', 'NFDC', 'NPHI', 'RHOB', 'CALI', 'INDEX1139', 'DRHO', 'FCNL', 'FFDC', 'GR', 'NCNL', 'NFDC', 'NPHI', 'RHOB', 'CALI', 'INDEX1140', 'DTDM']\n",
      "\n",
      "Curvas extraídas de 1IDA 0001  SE:\n",
      "['INDEX4026', 'RILD', 'SFLU', 'SP', 'CIL', 'INDEX4027', 'DUMM', 'INDEX4027', 'DUMM', 'INDEX4027', 'RILD', 'SFLU', 'SP', 'CIL', 'INDEX4028', 'RILD', 'SFLU', 'SP', 'CIL', 'INDEX4028', 'NEUT', 'GR']\n",
      "\n",
      "Curvas extraídas de 1IV  0002  SE:\n",
      "['INDEX3940', 'DT', 'GR', 'ILD', 'SN', 'SP', 'TENS', 'TT1', 'TT2', 'TT3', 'TT4', 'CALI', 'INDEX3941', 'DUMM', 'INDEX3942', 'DUMM', 'INDEX3942', 'DUMM', 'INDEX3943', 'DT', 'GR', 'ILD', 'SN', 'SP', 'TENS', 'TT1', 'TT2', 'TT3', 'TT4', 'CALI', 'INDEX3944', 'DUMM', 'INDEX3944', 'DUMM', 'INDEX3944', 'GR', 'CALI', 'INDEX3945', 'DRHO', 'GR', 'NPHI', 'RHOB', 'CALI', 'INDEX3946', 'FCNL', 'FFDC', 'NCNL', 'NFDC', 'NPHI', 'RHOB', 'DRHO', 'INDEX3947', 'TOTD', 'TTID', 'DTDM', 'INDEX3948', 'FFDC', 'NCNL', 'NFDC', 'FCNL']\n",
      "\n",
      "Curvas extraídas de 1MO  0001  SE:\n",
      "['INDEX2749', 'DUMM', 'INDEX2749', 'DUMM', 'INDEX2749', 'DUMM', 'INDEX2749', 'DUMM', 'INDEX2750', 'DUMM', 'INDEX2750', 'DUMM', 'INDEX2750', 'DT', 'INDEX2750', 'NEUT', 'GR', 'INDEX2751', 'RLN', 'RSN', 'SP', 'RLAT', 'INDEX2751', 'RLN', 'RSN', 'SP', 'RLAT', 'INDEX2752', 'RLN', 'RSN', 'SP', 'RLAT', 'INDEX2752', 'RLN', 'RSN', 'SP', 'RLAT', 'INDEX2753', 'RLL7', 'INDEX2753', 'SP']\n",
      "\n"
     ]
    }
   ],
   "source": [
    "for key, value in channels_dict.items():\n",
    "    print(f'Curvas extraídas de {key}:')\n",
    "    print(value)\n",
    "    print(\"\")"
   ]
  },
  {
   "cell_type": "code",
   "execution_count": 8,
   "metadata": {},
   "outputs": [
    {
     "ename": "FileNotFoundError",
     "evalue": "[Errno 2] No such file or directory: 'Curvas_CSV/1-BRSA-459-SE.csv'",
     "output_type": "error",
     "traceback": [
      "\u001b[1;31m---------------------------------------------------------------------------\u001b[0m",
      "\u001b[1;31mFileNotFoundError\u001b[0m                         Traceback (most recent call last)",
      "Cell \u001b[1;32mIn[8], line 9\u001b[0m\n\u001b[0;32m      6\u001b[0m filename \u001b[38;5;241m=\u001b[39m \u001b[38;5;124mf\u001b[39m\u001b[38;5;124m'\u001b[39m\u001b[38;5;124mCurvas_CSV/\u001b[39m\u001b[38;5;132;01m{\u001b[39;00mkey\u001b[38;5;132;01m}\u001b[39;00m\u001b[38;5;124m.csv\u001b[39m\u001b[38;5;124m'\u001b[39m\n\u001b[0;32m      8\u001b[0m \u001b[38;5;66;03m# Abrir o arquivo em modo de escrita\u001b[39;00m\n\u001b[1;32m----> 9\u001b[0m \u001b[38;5;28;01mwith\u001b[39;00m \u001b[38;5;28;43mopen\u001b[39;49m\u001b[43m(\u001b[49m\u001b[43mfilename\u001b[49m\u001b[43m,\u001b[49m\u001b[43m \u001b[49m\u001b[43mmode\u001b[49m\u001b[38;5;241;43m=\u001b[39;49m\u001b[38;5;124;43m'\u001b[39;49m\u001b[38;5;124;43mw\u001b[39;49m\u001b[38;5;124;43m'\u001b[39;49m\u001b[43m,\u001b[49m\u001b[43m \u001b[49m\u001b[43mnewline\u001b[49m\u001b[38;5;241;43m=\u001b[39;49m\u001b[38;5;124;43m'\u001b[39;49m\u001b[38;5;124;43m'\u001b[39;49m\u001b[43m)\u001b[49m \u001b[38;5;28;01mas\u001b[39;00m file:\n\u001b[0;32m     10\u001b[0m     writer \u001b[38;5;241m=\u001b[39m csv\u001b[38;5;241m.\u001b[39mwriter(file)\n\u001b[0;32m     12\u001b[0m     \u001b[38;5;66;03m# Escrever o cabeçalho do CSV\u001b[39;00m\n",
      "File \u001b[1;32mc:\\Users\\rafae\\Documents\\College\\PIBIC\\Rafael-AnaliseDados\\dlis_env\\lib\\site-packages\\IPython\\core\\interactiveshell.py:324\u001b[0m, in \u001b[0;36m_modified_open\u001b[1;34m(file, *args, **kwargs)\u001b[0m\n\u001b[0;32m    317\u001b[0m \u001b[38;5;28;01mif\u001b[39;00m file \u001b[38;5;129;01min\u001b[39;00m {\u001b[38;5;241m0\u001b[39m, \u001b[38;5;241m1\u001b[39m, \u001b[38;5;241m2\u001b[39m}:\n\u001b[0;32m    318\u001b[0m     \u001b[38;5;28;01mraise\u001b[39;00m \u001b[38;5;167;01mValueError\u001b[39;00m(\n\u001b[0;32m    319\u001b[0m         \u001b[38;5;124mf\u001b[39m\u001b[38;5;124m\"\u001b[39m\u001b[38;5;124mIPython won\u001b[39m\u001b[38;5;124m'\u001b[39m\u001b[38;5;124mt let you open fd=\u001b[39m\u001b[38;5;132;01m{\u001b[39;00mfile\u001b[38;5;132;01m}\u001b[39;00m\u001b[38;5;124m by default \u001b[39m\u001b[38;5;124m\"\u001b[39m\n\u001b[0;32m    320\u001b[0m         \u001b[38;5;124m\"\u001b[39m\u001b[38;5;124mas it is likely to crash IPython. If you know what you are doing, \u001b[39m\u001b[38;5;124m\"\u001b[39m\n\u001b[0;32m    321\u001b[0m         \u001b[38;5;124m\"\u001b[39m\u001b[38;5;124myou can use builtins\u001b[39m\u001b[38;5;124m'\u001b[39m\u001b[38;5;124m open.\u001b[39m\u001b[38;5;124m\"\u001b[39m\n\u001b[0;32m    322\u001b[0m     )\n\u001b[1;32m--> 324\u001b[0m \u001b[38;5;28;01mreturn\u001b[39;00m io_open(file, \u001b[38;5;241m*\u001b[39margs, \u001b[38;5;241m*\u001b[39m\u001b[38;5;241m*\u001b[39mkwargs)\n",
      "\u001b[1;31mFileNotFoundError\u001b[0m: [Errno 2] No such file or directory: 'Curvas_CSV/1-BRSA-459-SE.csv'"
     ]
    }
   ],
   "source": [
    "import csv\n",
    "\n",
    "# Para cada poço no dicionário channels_dict, criar um arquivo CSV\n",
    "for key, channels in channels_dict.items():\n",
    "    # Definir o nome do arquivo CSV usando o identificador do poço\n",
    "    filename = f'Curvas_CSV/{key}.csv'\n",
    "    \n",
    "    # Abrir o arquivo em modo de escrita\n",
    "    with open(filename, mode='w', newline='') as file:\n",
    "        writer = csv.writer(file)\n",
    "        \n",
    "        # Escrever o cabeçalho do CSV\n",
    "        writer.writerow(['Poco', 'Channel'])\n",
    "        \n",
    "        # Escrever uma linha para cada canal, incluindo o nome do poço\n",
    "        for channel in channels:\n",
    "            writer.writerow([key, channel])\n",
    "\n",
    "print(\"Arquivos CSV criados com sucesso!\")"
   ]
  },
  {
   "cell_type": "markdown",
   "metadata": {},
   "source": [
    "## Concatena os arquivos CSV das curvas em um único arquivo\n",
    "#### Para visualizar todas as curvas da extração dos .dlis em um único arquivo, os .csv de cada poço serão concatenados em um único arquivo .csv."
   ]
  },
  {
   "cell_type": "code",
   "execution_count": null,
   "metadata": {},
   "outputs": [
    {
     "data": {
      "text/plain": [
       "'\\nimport os\\n\\npasta = \"Curvas_CSV\"\\n\\n# Lista para armazenar os dataframes repectivos aos .csv\\ndf_list = []\\n\\n# Itera sobre a pasta Curvas_CSV\\nfor arquivo in os.listdir(pasta):\\n    file_path = os.path.join(pasta, arquivo)\\n\\n    # Lê o arquivo CSV como um df\\n    df = pd.read_csv(file_path)\\n    df_list.append(df)\\n\\n# Concatena os dfs ao longo do eixo das colunas\\ndf_concat = pd.concat(df_list, axis=0, ignore_index=True)\\n\\n# Salva o DF concatenado em um .csv\\ndf_concat.to_csv(\"Curvas_CSV/curvas_pocos.csv\", index=False)\\n\\nprint(\"Arquivo Curvas_CSV/curvas_pocos.csv criado com sucesso\")\\n'"
      ]
     },
     "execution_count": 6,
     "metadata": {},
     "output_type": "execute_result"
    }
   ],
   "source": [
    "\"\"\"\n",
    "import os\n",
    "\n",
    "pasta = \"Curvas_CSV\"\n",
    "\n",
    "# Lista para armazenar os dataframes repectivos aos .csv\n",
    "df_list = []\n",
    "\n",
    "# Itera sobre a pasta Curvas_CSV\n",
    "for arquivo in os.listdir(pasta):\n",
    "    file_path = os.path.join(pasta, arquivo)\n",
    "\n",
    "    # Lê o arquivo CSV como um df\n",
    "    df = pd.read_csv(file_path)\n",
    "    df_list.append(df)\n",
    "\n",
    "# Concatena os dfs ao longo do eixo das colunas\n",
    "df_concat = pd.concat(df_list, axis=0, ignore_index=True)\n",
    "\n",
    "# Salva o DF concatenado em um .csv\n",
    "df_concat.to_csv(\"Curvas_CSV/curvas_pocos.csv\", index=False)\n",
    "\n",
    "print(\"Arquivo Curvas_CSV/curvas_pocos.csv criado com sucesso\")\n",
    "\"\"\""
   ]
  },
  {
   "cell_type": "markdown",
   "metadata": {},
   "source": [
    "## Curvas escolhidas\n",
    "#### Cria uma lista para armazenar todas as curvas escolhidas e seus respectivos mnemônicos (alias)."
   ]
  },
  {
   "cell_type": "code",
   "execution_count": 4,
   "metadata": {},
   "outputs": [],
   "source": [
    "curvas_escolhidas = ['TDEP', 'GR', 'NPHI', 'RHOB', 'RHOZ', 'DRHO', 'HDRA', 'BSZ', 'BS', 'HCAL', 'CAL', 'CALI', 'DCALI', 'DCAL', 'PE', 'PEFZ', 'PEU', 'DT', 'DTC', 'ILD', 'RILD', 'IEL', 'AIT90', 'AHT90', 'RT90', 'AT90', 'AO90', 'RT', 'AF90', 'AHF90', 'AFH90', 'LLD', 'RLLD', 'HDRS', 'HLLD', 'LL7', 'RLL7']"
   ]
  },
  {
   "cell_type": "code",
   "execution_count": 7,
   "metadata": {},
   "outputs": [],
   "source": [
    "curvas_escolhidas_sem_tdep = curvas_escolhidas = ['GR', 'NPHI', 'RHOB', 'RHOZ', 'DRHO', 'HDRA', 'BSZ', 'BS', 'HCAL', 'CAL', 'CALI', 'DCALI', 'DCAL', 'PE', 'PEFZ', 'PEU', 'DT', 'DTC', 'ILD', 'RILD', 'IEL', 'AIT90', 'AHT90', 'RT90', 'AT90', 'AO90', 'RT', 'AF90', 'AHF90', 'AFH90', 'LLD', 'RLLD', 'HDRS', 'HLLD', 'LL7', 'RLL7']"
   ]
  },
  {
   "cell_type": "code",
   "execution_count": null,
   "metadata": {},
   "outputs": [],
   "source": [
    "teste = [\n",
    "    \"Channel(TDEP)\",\n",
    "    \"Channel(GR)\",\n",
    "    \"Channel(NPHI)\",\n",
    "    \"Channel(RHOB)\",\n",
    "    \"Channel(RHOZ)\",\n",
    "    \"Channel(DRHO)\",\n",
    "    \"Channel(HDRA)\",\n",
    "    \"Channel(BSZ)\",\n",
    "    \"Channel(BS)\",\n",
    "    \"Channel(HCAL)\",\n",
    "    \"Channel(CAL)\",\n",
    "    \"Channel(CALI)\",\n",
    "    \"Channel(DCALI)\",\n",
    "    \"Channel(DCAL)\",\n",
    "    \"Channel(PE)\",\n",
    "    \"Channel(PEFZ)\",\n",
    "    \"Channel(PEU)\",\n",
    "    \"Channel(DT)\",\n",
    "    \"Channel(DTC)\",\n",
    "    \"Channel(ILD)\",\n",
    "    \"Channel(RILD)\",\n",
    "    \"Channel(IEL)\",\n",
    "    \"Channel(AIT90)\",\n",
    "    \"Channel(AHT90)\",\n",
    "    \"Channel(RT90)\",\n",
    "    \"Channel(AT90)\",\n",
    "    \"Channel(AO90)\",\n",
    "    \"Channel(RT)\",\n",
    "    \"Channel(AF90)\",\n",
    "    \"Channel(AHF90)\",\n",
    "    \"Channel(AFH90)\",\n",
    "    \"Channel(LLD)\",\n",
    "    \"Channel(RLLD)\",\n",
    "    \"Channel(HDRS)\",\n",
    "    \"Channel(HLLD)\",\n",
    "    \"Channel(LL7)\",\n",
    "    \"Channel(RLL7)\"\n",
    "]"
   ]
  },
  {
   "cell_type": "markdown",
   "metadata": {},
   "source": [
    "## Processa os 'frames' dos poços "
   ]
  },
  {
   "cell_type": "markdown",
   "metadata": {},
   "source": [
    "#### Checa a quantidade de 'frames' dos poços"
   ]
  },
  {
   "cell_type": "code",
   "execution_count": 3,
   "metadata": {},
   "outputs": [
    {
     "ename": "NameError",
     "evalue": "name 'dli_dict' is not defined",
     "output_type": "error",
     "traceback": [
      "\u001b[1;31m---------------------------------------------------------------------------\u001b[0m",
      "\u001b[1;31mNameError\u001b[0m                                 Traceback (most recent call last)",
      "Cell \u001b[1;32mIn[3], line 1\u001b[0m\n\u001b[1;32m----> 1\u001b[0m \u001b[38;5;28;01mfor\u001b[39;00m key, poco \u001b[38;5;129;01min\u001b[39;00m \u001b[43mdli_dict\u001b[49m\u001b[38;5;241m.\u001b[39mitems():\n\u001b[0;32m      2\u001b[0m     \u001b[38;5;28;01mfor\u001b[39;00m frame \u001b[38;5;129;01min\u001b[39;00m poco\u001b[38;5;241m.\u001b[39mframes:\n\u001b[0;32m      3\u001b[0m         \u001b[38;5;28;01mfor\u001b[39;00m channel \u001b[38;5;129;01min\u001b[39;00m frame\u001b[38;5;241m.\u001b[39mchannels:\n",
      "\u001b[1;31mNameError\u001b[0m: name 'dli_dict' is not defined"
     ]
    }
   ],
   "source": [
    "for key, poco in dli_dict.items():\n",
    "    for frame in poco.frames:\n",
    "        for channel in frame.channels:\n",
    "        \n",
    "            channel_name = channel.name\n",
    "            if channel_name in curvas_escolhidas:\n",
    "                #print(channel_name)\n",
    "                print(f'{key} : {frame}')\n",
    "            #print(f'{key}: {frame.channels[0].name}')"
   ]
  },
  {
   "cell_type": "markdown",
   "metadata": {},
   "source": [
    "#### Checa unidade de medida da profundidade dos poços"
   ]
  },
  {
   "cell_type": "code",
   "execution_count": 4,
   "metadata": {},
   "outputs": [
    {
     "name": "stdout",
     "output_type": "stream",
     "text": [
      "1CSC 0001  SE:m\n",
      "1CSC 0001  SE:m\n",
      "1CSC 0001  SE:m\n",
      "1CSC 0001  SE:m\n",
      "1CSC 0001  SE:m\n",
      "1CSC 0001  SE:m\n",
      "1CSC 0001  SE:m\n",
      "1CSC 0001  SE:m\n",
      "1CSC 0001  SE:m\n",
      "1CSC 0001  SE:m\n",
      "1CSC 0001  SE:m\n",
      "1CSC 0001  SE:m\n",
      "1CSC 0001  SE:m\n",
      "1CSC 0001  SE:m\n",
      "1IDA 0001  SE:m\n",
      "1IDA 0001  SE:m\n",
      "1IDA 0001  SE:m\n",
      "1IDA 0001  SE:m\n",
      "1IDA 0001  SE:m\n",
      "1IDA 0001  SE:m\n",
      "1IV  0002  SE:m\n",
      "1IV  0002  SE:m\n",
      "1IV  0002  SE:m\n",
      "1IV  0002  SE:m\n",
      "1IV  0002  SE:m\n",
      "1IV  0002  SE:m\n",
      "1IV  0002  SE:m\n",
      "1IV  0002  SE:m\n",
      "1IV  0002  SE:m\n",
      "1IV  0002  SE:m\n",
      "1IV  0002  SE:m\n",
      "1IV  0002  SE:m\n",
      "1MO  0001  SE:m\n",
      "1MO  0001  SE:m\n",
      "1MO  0001  SE:m\n",
      "1MO  0001  SE:m\n",
      "1MO  0001  SE:m\n",
      "1MO  0001  SE:m\n",
      "1MO  0001  SE:m\n",
      "1MO  0001  SE:m\n",
      "1MO  0001  SE:m\n",
      "1MO  0001  SE:m\n",
      "1MO  0001  SE:m\n",
      "1MO  0001  SE:m\n",
      "1MO  0001  SE:m\n",
      "1MO  0001  SE:m\n"
     ]
    }
   ],
   "source": [
    "for key, logical_files in leituras_dlis.items():\n",
    "    for file in logical_files:\n",
    "        unidade_medida = file.frames[0].attic['SPACING'].units\n",
    "\n",
    "        print(f'{key}:{unidade_medida}')"
   ]
  },
  {
   "cell_type": "markdown",
   "metadata": {},
   "source": [
    "#### Create a dictionary to store well frames"
   ]
  },
  {
   "cell_type": "code",
   "execution_count": 6,
   "metadata": {},
   "outputs": [
    {
     "ename": "AttributeError",
     "evalue": "'list' object has no attribute 'frames'",
     "output_type": "error",
     "traceback": [
      "\u001b[1;31m---------------------------------------------------------------------------\u001b[0m",
      "\u001b[1;31mAttributeError\u001b[0m                            Traceback (most recent call last)",
      "Cell \u001b[1;32mIn[6], line 4\u001b[0m\n\u001b[0;32m      1\u001b[0m frames_dict \u001b[38;5;241m=\u001b[39m {}\n\u001b[0;32m      3\u001b[0m \u001b[38;5;28;01mfor\u001b[39;00m key, logical_files \u001b[38;5;129;01min\u001b[39;00m leituras_dlis\u001b[38;5;241m.\u001b[39mitems():\n\u001b[1;32m----> 4\u001b[0m     frames_dict[key] \u001b[38;5;241m=\u001b[39m \u001b[43mcreate_frames_dict\u001b[49m\u001b[43m(\u001b[49m\u001b[43mlogical_files\u001b[49m\u001b[43m)\u001b[49m\n",
      "File \u001b[1;32mc:\\Users\\rafae\\Documents\\College\\PIBIC\\Rafael-AnaliseDados\\pre_processamento.py:145\u001b[0m, in \u001b[0;36mcreate_frames_dict\u001b[1;34m(logical_file)\u001b[0m\n\u001b[0;32m    134\u001b[0m \u001b[38;5;250m\u001b[39m\u001b[38;5;124;03m\"\"\"\u001b[39;00m\n\u001b[0;32m    135\u001b[0m \u001b[38;5;124;03mCreates a dictionary to store well frames.\u001b[39;00m\n\u001b[0;32m    136\u001b[0m \n\u001b[1;32m   (...)\u001b[0m\n\u001b[0;32m    141\u001b[0m \u001b[38;5;124;03m    dict: A dictionary containing ndarrays with well frame data from the frames of the logical file.\u001b[39;00m\n\u001b[0;32m    142\u001b[0m \u001b[38;5;124;03m\"\"\"\u001b[39;00m\n\u001b[0;32m    143\u001b[0m frames_dict \u001b[38;5;241m=\u001b[39m {}\n\u001b[1;32m--> 145\u001b[0m \u001b[38;5;28;01mfor\u001b[39;00m index, frame \u001b[38;5;129;01min\u001b[39;00m \u001b[38;5;28menumerate\u001b[39m(\u001b[43mlogical_file\u001b[49m\u001b[38;5;241;43m.\u001b[39;49m\u001b[43mframes\u001b[49m):\n\u001b[0;32m    146\u001b[0m         curves \u001b[38;5;241m=\u001b[39m frame\u001b[38;5;241m.\u001b[39mcurves()\n\u001b[0;32m    147\u001b[0m         frames_dict[index] \u001b[38;5;241m=\u001b[39m curves\n",
      "\u001b[1;31mAttributeError\u001b[0m: 'list' object has no attribute 'frames'"
     ]
    }
   ],
   "source": [
    "frames_dict = {}\n",
    "\n",
    "for key, logical_files in leituras_dlis.items():\n",
    "    frames_dict[key] = create_frames_dict(logical_files)"
   ]
  },
  {
   "cell_type": "code",
   "execution_count": 17,
   "metadata": {},
   "outputs": [
    {
     "ename": "KeyError",
     "evalue": "1",
     "output_type": "error",
     "traceback": [
      "\u001b[1;31m---------------------------------------------------------------------------\u001b[0m",
      "\u001b[1;31mKeyError\u001b[0m                                  Traceback (most recent call last)",
      "Cell \u001b[1;32mIn[17], line 1\u001b[0m\n\u001b[1;32m----> 1\u001b[0m \u001b[43mframes_dict\u001b[49m\u001b[43m[\u001b[49m\u001b[38;5;124;43m'\u001b[39;49m\u001b[38;5;124;43m1CSC 0001  SE\u001b[39;49m\u001b[38;5;124;43m'\u001b[39;49m\u001b[43m]\u001b[49m\u001b[43m[\u001b[49m\u001b[38;5;241;43m1\u001b[39;49m\u001b[43m]\u001b[49m\n",
      "\u001b[1;31mKeyError\u001b[0m: 1"
     ]
    }
   ],
   "source": [
    "frames_dict['1CSC 0001  SE'][1]"
   ]
  },
  {
   "cell_type": "markdown",
   "metadata": {},
   "source": [
    "#### Create a pandas dataframe for each well frame"
   ]
  },
  {
   "cell_type": "code",
   "execution_count": 8,
   "metadata": {},
   "outputs": [],
   "source": [
    "dataframes_dict = {}\n",
    "\n",
    "for key, poco_frames_dict in frames_dict.items():\n",
    "    dataframes_dict[key] = cria_dataframes_dict(poco_frames_dict, curvas_escolhidas)"
   ]
  },
  {
   "cell_type": "code",
   "execution_count": 23,
   "metadata": {},
   "outputs": [
    {
     "data": {
      "text/html": [
       "<div>\n",
       "<style scoped>\n",
       "    .dataframe tbody tr th:only-of-type {\n",
       "        vertical-align: middle;\n",
       "    }\n",
       "\n",
       "    .dataframe tbody tr th {\n",
       "        vertical-align: top;\n",
       "    }\n",
       "\n",
       "    .dataframe thead th {\n",
       "        text-align: right;\n",
       "    }\n",
       "</style>\n",
       "<table border=\"1\" class=\"dataframe\">\n",
       "  <thead>\n",
       "    <tr style=\"text-align: right;\">\n",
       "      <th></th>\n",
       "      <th>TDEP</th>\n",
       "      <th>BS</th>\n",
       "      <th>CAL</th>\n",
       "      <th>DCAL</th>\n",
       "      <th>GR</th>\n",
       "      <th>RESD</th>\n",
       "      <th>DT</th>\n",
       "      <th>RHOB</th>\n",
       "      <th>DRHO</th>\n",
       "      <th>NPHI</th>\n",
       "      <th>PE</th>\n",
       "    </tr>\n",
       "  </thead>\n",
       "  <tbody>\n",
       "    <tr>\n",
       "      <th>0</th>\n",
       "      <td>20.900000</td>\n",
       "      <td>8.5</td>\n",
       "      <td>NaN</td>\n",
       "      <td>NaN</td>\n",
       "      <td>74.84182</td>\n",
       "      <td>20.749353</td>\n",
       "      <td>56.571266</td>\n",
       "      <td>NaN</td>\n",
       "      <td>NaN</td>\n",
       "      <td>0.543048</td>\n",
       "      <td>NaN</td>\n",
       "    </tr>\n",
       "    <tr>\n",
       "      <th>1</th>\n",
       "      <td>21.000000</td>\n",
       "      <td>8.5</td>\n",
       "      <td>4.369146</td>\n",
       "      <td>-4.130854</td>\n",
       "      <td>78.784447</td>\n",
       "      <td>20.749353</td>\n",
       "      <td>56.571266</td>\n",
       "      <td>2.00233</td>\n",
       "      <td>0.135007</td>\n",
       "      <td>0.543048</td>\n",
       "      <td>10.0</td>\n",
       "    </tr>\n",
       "    <tr>\n",
       "      <th>2</th>\n",
       "      <td>21.200001</td>\n",
       "      <td>8.5</td>\n",
       "      <td>4.36414</td>\n",
       "      <td>-4.13586</td>\n",
       "      <td>76.540741</td>\n",
       "      <td>20.749353</td>\n",
       "      <td>56.571266</td>\n",
       "      <td>2.00233</td>\n",
       "      <td>0.135007</td>\n",
       "      <td>0.503262</td>\n",
       "      <td>10.0</td>\n",
       "    </tr>\n",
       "    <tr>\n",
       "      <th>3</th>\n",
       "      <td>21.299999</td>\n",
       "      <td>8.5</td>\n",
       "      <td>4.359134</td>\n",
       "      <td>-4.140866</td>\n",
       "      <td>77.266716</td>\n",
       "      <td>20.749353</td>\n",
       "      <td>56.571266</td>\n",
       "      <td>2.00233</td>\n",
       "      <td>0.135007</td>\n",
       "      <td>0.479829</td>\n",
       "      <td>10.0</td>\n",
       "    </tr>\n",
       "    <tr>\n",
       "      <th>4</th>\n",
       "      <td>21.500000</td>\n",
       "      <td>8.5</td>\n",
       "      <td>4.36414</td>\n",
       "      <td>-4.13586</td>\n",
       "      <td>76.745323</td>\n",
       "      <td>20.749353</td>\n",
       "      <td>56.571266</td>\n",
       "      <td>2.00233</td>\n",
       "      <td>0.135007</td>\n",
       "      <td>0.503639</td>\n",
       "      <td>10.0</td>\n",
       "    </tr>\n",
       "    <tr>\n",
       "      <th>...</th>\n",
       "      <td>...</td>\n",
       "      <td>...</td>\n",
       "      <td>...</td>\n",
       "      <td>...</td>\n",
       "      <td>...</td>\n",
       "      <td>...</td>\n",
       "      <td>...</td>\n",
       "      <td>...</td>\n",
       "      <td>...</td>\n",
       "      <td>...</td>\n",
       "      <td>...</td>\n",
       "    </tr>\n",
       "    <tr>\n",
       "      <th>3618</th>\n",
       "      <td>572.299988</td>\n",
       "      <td>8.5</td>\n",
       "      <td>4.374153</td>\n",
       "      <td>-4.125847</td>\n",
       "      <td>134.328369</td>\n",
       "      <td>62.873047</td>\n",
       "      <td>71.511726</td>\n",
       "      <td>None</td>\n",
       "      <td>None</td>\n",
       "      <td>0.42983</td>\n",
       "      <td>None</td>\n",
       "    </tr>\n",
       "    <tr>\n",
       "      <th>3619</th>\n",
       "      <td>572.400024</td>\n",
       "      <td>8.5</td>\n",
       "      <td>4.374153</td>\n",
       "      <td>-4.125847</td>\n",
       "      <td>134.328369</td>\n",
       "      <td>62.857533</td>\n",
       "      <td>71.511726</td>\n",
       "      <td>None</td>\n",
       "      <td>None</td>\n",
       "      <td>0.42983</td>\n",
       "      <td>None</td>\n",
       "    </tr>\n",
       "    <tr>\n",
       "      <th>3620</th>\n",
       "      <td>572.599976</td>\n",
       "      <td>8.5</td>\n",
       "      <td>4.374153</td>\n",
       "      <td>-4.125847</td>\n",
       "      <td>134.328369</td>\n",
       "      <td>62.846081</td>\n",
       "      <td>71.511726</td>\n",
       "      <td>None</td>\n",
       "      <td>None</td>\n",
       "      <td>0.42983</td>\n",
       "      <td>None</td>\n",
       "    </tr>\n",
       "    <tr>\n",
       "      <th>3621</th>\n",
       "      <td>572.700012</td>\n",
       "      <td>8.5</td>\n",
       "      <td>4.374153</td>\n",
       "      <td>-4.125847</td>\n",
       "      <td>134.328369</td>\n",
       "      <td>62.830406</td>\n",
       "      <td>71.511726</td>\n",
       "      <td>None</td>\n",
       "      <td>None</td>\n",
       "      <td>0.42983</td>\n",
       "      <td>None</td>\n",
       "    </tr>\n",
       "    <tr>\n",
       "      <th>3622</th>\n",
       "      <td>572.900024</td>\n",
       "      <td>8.5</td>\n",
       "      <td>4.374153</td>\n",
       "      <td>-4.125847</td>\n",
       "      <td>134.328369</td>\n",
       "      <td>9.160568</td>\n",
       "      <td>71.511726</td>\n",
       "      <td>None</td>\n",
       "      <td>None</td>\n",
       "      <td>0.42983</td>\n",
       "      <td>None</td>\n",
       "    </tr>\n",
       "  </tbody>\n",
       "</table>\n",
       "<p>3623 rows × 11 columns</p>\n",
       "</div>"
      ],
      "text/plain": [
       "            TDEP   BS       CAL      DCAL          GR       RESD         DT  \\\n",
       "0      20.900000  8.5       NaN       NaN    74.84182  20.749353  56.571266   \n",
       "1      21.000000  8.5  4.369146 -4.130854   78.784447  20.749353  56.571266   \n",
       "2      21.200001  8.5   4.36414  -4.13586   76.540741  20.749353  56.571266   \n",
       "3      21.299999  8.5  4.359134 -4.140866   77.266716  20.749353  56.571266   \n",
       "4      21.500000  8.5   4.36414  -4.13586   76.745323  20.749353  56.571266   \n",
       "...          ...  ...       ...       ...         ...        ...        ...   \n",
       "3618  572.299988  8.5  4.374153 -4.125847  134.328369  62.873047  71.511726   \n",
       "3619  572.400024  8.5  4.374153 -4.125847  134.328369  62.857533  71.511726   \n",
       "3620  572.599976  8.5  4.374153 -4.125847  134.328369  62.846081  71.511726   \n",
       "3621  572.700012  8.5  4.374153 -4.125847  134.328369  62.830406  71.511726   \n",
       "3622  572.900024  8.5  4.374153 -4.125847  134.328369   9.160568  71.511726   \n",
       "\n",
       "         RHOB      DRHO      NPHI    PE  \n",
       "0         NaN       NaN  0.543048   NaN  \n",
       "1     2.00233  0.135007  0.543048  10.0  \n",
       "2     2.00233  0.135007  0.503262  10.0  \n",
       "3     2.00233  0.135007  0.479829  10.0  \n",
       "4     2.00233  0.135007  0.503639  10.0  \n",
       "...       ...       ...       ...   ...  \n",
       "3618     None      None   0.42983  None  \n",
       "3619     None      None   0.42983  None  \n",
       "3620     None      None   0.42983  None  \n",
       "3621     None      None   0.42983  None  \n",
       "3622     None      None   0.42983  None  \n",
       "\n",
       "[3623 rows x 11 columns]"
      ]
     },
     "execution_count": 23,
     "metadata": {},
     "output_type": "execute_result"
    }
   ],
   "source": [
    "dataframes_dict['1-BRSA-459-SE']"
   ]
  },
  {
   "cell_type": "markdown",
   "metadata": {},
   "source": [
    "#### Salva os dataframes como arquivos (verificar onde colocar depois)"
   ]
  },
  {
   "cell_type": "code",
   "execution_count": null,
   "metadata": {},
   "outputs": [
    {
     "data": {
      "text/plain": [
       "'\\nfor key, value in dataframes_dict_551.items():\\n    file_name = f\"Frames_551/frame_{key}.csv\"\\n    value.to_csv(file_name, index=False)\\n    print(f\"Arquivo {file_name} criado com sucesso.\")\\n\\nfor key, value in dataframes_dict_605.items():\\n    file_name = f\"Frames_605/frame_{key}.csv\"\\n    value.to_csv(file_name, index=False)\\n    print(f\"Arquivo {file_name} criado com sucesso.\")\\n'"
      ]
     },
     "execution_count": 12,
     "metadata": {},
     "output_type": "execute_result"
    }
   ],
   "source": [
    "\"\"\"\n",
    "for key, value in dataframes_dict_551.items():\n",
    "    file_name = f\"Frames_551/frame_{key}.csv\"\n",
    "    value.to_csv(file_name, index=False)\n",
    "    print(f\"Arquivo {file_name} criado com sucesso.\")\n",
    "\n",
    "for key, value in dataframes_dict_605.items():\n",
    "    file_name = f\"Frames_605/frame_{key}.csv\"\n",
    "    value.to_csv(file_name, index=False)\n",
    "    print(f\"Arquivo {file_name} criado com sucesso.\")\n",
    "\"\"\""
   ]
  },
  {
   "cell_type": "markdown",
   "metadata": {},
   "source": [
    "#### Checa se todos os valores de profundidade presentes no primeiro frame existem nos demais"
   ]
  },
  {
   "cell_type": "code",
   "execution_count": 9,
   "metadata": {},
   "outputs": [],
   "source": [
    "import math\n",
    "\n",
    "def checa_TDEP(dataframes, tolerancia=0.01):\n",
    "    tdep_primeiro_frame = dataframes[0]['TDEP']\n",
    "  \n",
    "    for key, value in dataframes.items():\n",
    "        if key == 0:  # Ignorar o primeiro DataFrame\n",
    "            continue\n",
    "        \n",
    "        tdep_outro_frame = dataframes[key]['TDEP']\n",
    "        \n",
    "        for valor_tdep in tdep_primeiro_frame:\n",
    "            # Verifica se algum valor em tdep_outro_frame está próximo o suficiente de valor_tdep\n",
    "            if any(math.isclose(valor_tdep, outro_valor, abs_tol=tolerancia) for outro_valor in tdep_outro_frame):\n",
    "                print(f'{valor_tdep} - Ok')\n",
    "            else:\n",
    "                print(f'{valor_tdep} - Faltando')\n",
    "    "
   ]
  },
  {
   "cell_type": "markdown",
   "metadata": {},
   "source": [
    "#### Remove valores de profundidade que não estão presentes no primeiro frame"
   ]
  },
  {
   "cell_type": "code",
   "execution_count": 10,
   "metadata": {},
   "outputs": [],
   "source": [
    "for chave, poco_dataframes_dict in dataframes_dict.items():\n",
    "    for key, value in poco_dataframes_dict.items():\n",
    "        try:\n",
    "            poco_dataframes_dict[key] = value[value['TDEP'].isin(poco_dataframes_dict[0]['TDEP'])]\n",
    "        except:\n",
    "            print(chave)"
   ]
  },
  {
   "cell_type": "markdown",
   "metadata": {},
   "source": [
    "#### Junta os dataframes dos poços em um único dataframe com as curvas escolhidas"
   ]
  },
  {
   "cell_type": "code",
   "execution_count": 11,
   "metadata": {},
   "outputs": [],
   "source": [
    "for key, value in dataframes_dict.items():\n",
    "    try:\n",
    "        dataframes_dict[key] = unifica_dataframes(value)\n",
    "    except:\n",
    "        print(key)"
   ]
  },
  {
   "cell_type": "markdown",
   "metadata": {},
   "source": [
    "#### Mantém apenas uma curva de resistividade profunda (RT)"
   ]
  },
  {
   "cell_type": "code",
   "execution_count": 12,
   "metadata": {},
   "outputs": [],
   "source": [
    "for key, value in dataframes_dict.items():\n",
    "    if 'RT' in value:\n",
    "        dataframes_dict[key] = remove_colunas(value, ['AHT90', 'AHF90'])"
   ]
  },
  {
   "cell_type": "code",
   "execution_count": 13,
   "metadata": {},
   "outputs": [],
   "source": [
    "dataframes_dict['1-BRSA-659-SE'] = remove_colunas(dataframes_dict['1-BRSA-659-SE'], ['PEU'])\n",
    "dataframes_dict['1-FSJQ-1-SE'] = remove_colunas(dataframes_dict['1-FSJQ-1-SE'], ['PEU'])"
   ]
  },
  {
   "cell_type": "markdown",
   "metadata": {},
   "source": [
    "#### Checa a unidade de medida da coluna TDEP. Se for em polegada, move a vírgula uma casa para a esquerda em todos os valores das colunas TDEP e converte a unidade de medida de polegada para metro."
   ]
  },
  {
   "cell_type": "code",
   "execution_count": 14,
   "metadata": {},
   "outputs": [],
   "source": [
    "\n",
    "for key, value in dataframes_dict.items():\n",
    "    unidade_medida = dli_dict[key].frames[0].attic['SPACING'].units\n",
    "    \n",
    "    if unidade_medida == '0.1 in':\n",
    "        #for value in poco_dataframes_dict.values():\n",
    "        # move vírgula uma casa para a esquerda\n",
    "        value['TDEP'] = value['TDEP'] / 10\n",
    "\n",
    "        # converte de polegada para metro\n",
    "        value['TDEP'] = value['TDEP'] * 0.0254\n"
   ]
  },
  {
   "cell_type": "markdown",
   "metadata": {},
   "source": [
    "## Transforma os valores -999.25 em nulos"
   ]
  },
  {
   "cell_type": "code",
   "execution_count": 15,
   "metadata": {},
   "outputs": [],
   "source": [
    "for poco in dataframes_dict.values():\n",
    "    poco.replace([-999.25], [None], inplace = True)"
   ]
  },
  {
   "cell_type": "markdown",
   "metadata": {},
   "source": [
    "## Aplicando os mnemônicos"
   ]
  },
  {
   "cell_type": "code",
   "execution_count": 16,
   "metadata": {},
   "outputs": [],
   "source": [
    "aplica_mnemonico(dataframes_dict, ['BS', 'BSZ'], 'BS')\n",
    "aplica_mnemonico(dataframes_dict, ['LLD',\t'LL7',\t'RLLD',\t 'RLL7', 'HDRS', 'HLLD', 'ILD',\t'RILD',\t'IEL',\t'AIT90', 'AHT90', 'RT90', 'AT90', 'AO90', 'RT', 'AF90',\t'AHF90', 'AFH90'], 'RESD')\n",
    "aplica_mnemonico(dataframes_dict, ['RHOB', 'RHOZ'], 'RHOB')\n",
    "aplica_mnemonico(dataframes_dict, ['DTC', 'DT'], 'DT')\n",
    "aplica_mnemonico(dataframes_dict, ['HCAL', 'CAL', 'CALI'], 'CAL')\n",
    "aplica_mnemonico(dataframes_dict, ['DCAL', 'DCALI'], 'DCAL')\n",
    "aplica_mnemonico(dataframes_dict, ['DRHO', 'HDRA'], 'DRHO')\n",
    "aplica_mnemonico(dataframes_dict, ['PE', 'PEFZ', 'PEU'], 'PE')"
   ]
  },
  {
   "cell_type": "markdown",
   "metadata": {},
   "source": [
    "## Adiciona coluna DCAL"
   ]
  },
  {
   "cell_type": "code",
   "execution_count": 17,
   "metadata": {},
   "outputs": [],
   "source": [
    "add_DCAL(dataframes_dict)"
   ]
  },
  {
   "cell_type": "code",
   "execution_count": 18,
   "metadata": {},
   "outputs": [
    {
     "name": "stdout",
     "output_type": "stream",
     "text": [
      "1-BRSA-459-SE: ['BS', 'CAL', 'DCAL', 'DRHO', 'DT', 'GR', 'NPHI', 'PE', 'RESD', 'RHOB', 'TDEP']\n",
      "1-FSG-1-SE: ['BS', 'CAL', 'DCAL', 'DRHO', 'DT', 'GR', 'NPHI', 'PE', 'RESD', 'RHOB', 'TDEP']\n",
      "1-FSJQ-1-SE: ['BS', 'CAL', 'DCAL', 'DRHO', 'DT', 'GR', 'NPHI', 'PE', 'RESD', 'RHOB', 'TDEP']\n",
      "1-BRSA-595-SE: ['BS', 'CAL', 'DCAL', 'DRHO', 'DT', 'GR', 'NPHI', 'PE', 'RESD', 'RHOB', 'TDEP']\n",
      "1-BRSA-605-SE: ['BS', 'CAL', 'DCAL', 'DRHO', 'DT', 'GR', 'NPHI', 'PE', 'RESD', 'RHOB', 'TDEP']\n",
      "1-BRSA-643-SE: ['BS', 'CAL', 'DCAL', 'DRHO', 'DT', 'GR', 'NPHI', 'PE', 'RESD', 'RHOB', 'TDEP']\n",
      "1-BRSA-645-SE: ['BS', 'CAL', 'DCAL', 'DRHO', 'DT', 'GR', 'NPHI', 'PE', 'PE', 'RESD', 'RHOB', 'TDEP']\n",
      "1-BRSA-659-SE: ['BS', 'CAL', 'DCAL', 'DRHO', 'DT', 'GR', 'NPHI', 'PE', 'RESD', 'RHOB', 'TDEP']\n",
      "1-POI-1-SE: ['BS', 'CAL', 'DCAL', 'DRHO', 'DT', 'GR', 'NPHI', 'PE', 'RESD', 'RHOB', 'TDEP']\n",
      "1-BRSA-696-SE: ['BS', 'CAL', 'DCAL', 'DRHO', 'DT', 'GR', 'NPHI', 'PE', 'RESD', 'RHOB', 'TDEP']\n",
      "1-DP-2-SE: ['BS', 'CAL', 'DCAL', 'DRHO', 'DT', 'GR', 'NPHI', 'PE', 'RESD', 'RHOB', 'TDEP']\n"
     ]
    }
   ],
   "source": [
    "for key, poco in dataframes_dict.items():\n",
    "    curvas = sorted(poco.keys())\n",
    "    print(f\"{key}: {curvas}\")"
   ]
  },
  {
   "cell_type": "markdown",
   "metadata": {},
   "source": [
    "## Preenche os poços com curvas faltando (não é mais necessário)"
   ]
  },
  {
   "cell_type": "code",
   "execution_count": 23,
   "metadata": {},
   "outputs": [
    {
     "data": {
      "text/plain": [
       "\"\\n# Se um dos poços não tiver uma dessas curvas, adicionamos a coluna da curva e mantemos os valores como None\\ncurvas_obrigatorias = ['TDEP', 'BS', 'CAL', 'DCAL', 'GR', 'RESD', 'DT', 'RHOB', 'DRHO', 'NPHI', 'PE']\\n\\n# Percorre todos os poços\\nfor poco in dataframes_dict.values():\\n    # Percorre todas as curvas obrigatórias\\n    for curva in curvas_obrigatorias:\\n        # Se o poço não tiver a curva\\n        if curva not in poco.columns:\\n            # Adiciona a coluna e os valores dela = None\\n            poco[curva] = None\\n\""
      ]
     },
     "execution_count": 23,
     "metadata": {},
     "output_type": "execute_result"
    }
   ],
   "source": [
    "'''\n",
    "# Se um dos poços não tiver uma dessas curvas, adicionamos a coluna da curva e mantemos os valores como None\n",
    "curvas_obrigatorias = ['TDEP', 'BS', 'CAL', 'DCAL', 'GR', 'RESD', 'DT', 'RHOB', 'DRHO', 'NPHI', 'PE']\n",
    "\n",
    "# Percorre todos os poços\n",
    "for poco in dataframes_dict.values():\n",
    "    # Percorre todas as curvas obrigatórias\n",
    "    for curva in curvas_obrigatorias:\n",
    "        # Se o poço não tiver a curva\n",
    "        if curva not in poco.columns:\n",
    "            # Adiciona a coluna e os valores dela = None\n",
    "            poco[curva] = None\n",
    "'''"
   ]
  },
  {
   "cell_type": "markdown",
   "metadata": {},
   "source": [
    "## Temos as seguintes curvas "
   ]
  },
  {
   "cell_type": "code",
   "execution_count": 19,
   "metadata": {},
   "outputs": [
    {
     "name": "stdout",
     "output_type": "stream",
     "text": [
      "1-BRSA-459-SE: ['BS', 'CAL', 'DCAL', 'DRHO', 'DT', 'GR', 'NPHI', 'PE', 'RESD', 'RHOB', 'TDEP']\n",
      "1-FSG-1-SE: ['BS', 'CAL', 'DCAL', 'DRHO', 'DT', 'GR', 'NPHI', 'PE', 'RESD', 'RHOB', 'TDEP']\n",
      "1-FSJQ-1-SE: ['BS', 'CAL', 'DCAL', 'DRHO', 'DT', 'GR', 'NPHI', 'PE', 'RESD', 'RHOB', 'TDEP']\n",
      "1-BRSA-595-SE: ['BS', 'CAL', 'DCAL', 'DRHO', 'DT', 'GR', 'NPHI', 'PE', 'RESD', 'RHOB', 'TDEP']\n",
      "1-BRSA-605-SE: ['BS', 'CAL', 'DCAL', 'DRHO', 'DT', 'GR', 'NPHI', 'PE', 'RESD', 'RHOB', 'TDEP']\n",
      "1-BRSA-643-SE: ['BS', 'CAL', 'DCAL', 'DRHO', 'DT', 'GR', 'NPHI', 'PE', 'RESD', 'RHOB', 'TDEP']\n",
      "1-BRSA-645-SE: ['BS', 'CAL', 'DCAL', 'DRHO', 'DT', 'GR', 'NPHI', 'PE', 'PE', 'RESD', 'RHOB', 'TDEP']\n",
      "1-BRSA-659-SE: ['BS', 'CAL', 'DCAL', 'DRHO', 'DT', 'GR', 'NPHI', 'PE', 'RESD', 'RHOB', 'TDEP']\n",
      "1-POI-1-SE: ['BS', 'CAL', 'DCAL', 'DRHO', 'DT', 'GR', 'NPHI', 'PE', 'RESD', 'RHOB', 'TDEP']\n",
      "1-BRSA-696-SE: ['BS', 'CAL', 'DCAL', 'DRHO', 'DT', 'GR', 'NPHI', 'PE', 'RESD', 'RHOB', 'TDEP']\n",
      "1-DP-2-SE: ['BS', 'CAL', 'DCAL', 'DRHO', 'DT', 'GR', 'NPHI', 'PE', 'RESD', 'RHOB', 'TDEP']\n"
     ]
    }
   ],
   "source": [
    "for key, poco in dataframes_dict.items():\n",
    "    curvas = sorted(poco.keys())\n",
    "    print(f\"{key}: {curvas}\")"
   ]
  },
  {
   "cell_type": "markdown",
   "metadata": {},
   "source": [
    "## Inverte a ordem das linhas dos dataframes"
   ]
  },
  {
   "cell_type": "code",
   "execution_count": 20,
   "metadata": {},
   "outputs": [],
   "source": [
    "for key in dataframes_dict.keys():\n",
    "    dataframes_dict[key] = dataframes_dict[key].iloc[::-1].reset_index(drop=True)"
   ]
  },
  {
   "cell_type": "markdown",
   "metadata": {},
   "source": [
    "## Ordena as colunas dos dataframes"
   ]
  },
  {
   "cell_type": "code",
   "execution_count": 21,
   "metadata": {},
   "outputs": [],
   "source": [
    "# Simon e Vandelli já definiram (maio/24)\n",
    "ordem_desejada = ['TDEP', 'BS', 'CAL', 'DCAL', 'GR', 'RESD', 'DT', 'RHOB', 'DRHO', 'NPHI', 'PE']\n",
    "\n",
    "for key in dataframes_dict.keys():\n",
    "    try:\n",
    "        dataframes_dict[key] = dataframes_dict[key].reindex(columns=ordem_desejada)\n",
    "    except:\n",
    "        pass"
   ]
  },
  {
   "cell_type": "markdown",
   "metadata": {},
   "source": [
    "#### Arredonda os valores de TDEP"
   ]
  },
  {
   "cell_type": "code",
   "execution_count": 22,
   "metadata": {},
   "outputs": [],
   "source": [
    "# Arredonda os valores de TDEP\n",
    "for key, value in dataframes_dict.items():\n",
    "    dataframes_dict[key]['TDEP'] = dataframes_dict[key]['TDEP'].round(1)"
   ]
  },
  {
   "cell_type": "markdown",
   "metadata": {},
   "source": [
    "## Salva os dados dos dataframes em arquivos CSV"
   ]
  },
  {
   "cell_type": "code",
   "execution_count": 29,
   "metadata": {},
   "outputs": [
    {
     "name": "stdout",
     "output_type": "stream",
     "text": [
      "Arquivo Dados-dlis-pre-processados/curvas_1-BRSA-459-SE.csv criado com sucesso.\n",
      "Arquivo Dados-dlis-pre-processados/curvas_1-FSG-1-SE.csv criado com sucesso.\n",
      "Arquivo Dados-dlis-pre-processados/curvas_1-FSJQ-1-SE.csv criado com sucesso.\n",
      "Arquivo Dados-dlis-pre-processados/curvas_1-BRSA-595-SE.csv criado com sucesso.\n",
      "Arquivo Dados-dlis-pre-processados/curvas_1-BRSA-605-SE.csv criado com sucesso.\n",
      "Arquivo Dados-dlis-pre-processados/curvas_1-BRSA-643-SE.csv criado com sucesso.\n",
      "Arquivo Dados-dlis-pre-processados/curvas_1-BRSA-645-SE.csv criado com sucesso.\n",
      "Arquivo Dados-dlis-pre-processados/curvas_1-BRSA-659-SE.csv criado com sucesso.\n",
      "Arquivo Dados-dlis-pre-processados/curvas_1-POI-1-SE.csv criado com sucesso.\n",
      "Arquivo Dados-dlis-pre-processados/curvas_1-BRSA-696-SE.csv criado com sucesso.\n",
      "Arquivo Dados-dlis-pre-processados/curvas_1-DP-2-SE.csv criado com sucesso.\n"
     ]
    }
   ],
   "source": [
    "for key, value in dataframes_dict.items():\n",
    "    file_name = f\"Dados-dlis-pre-processados/curvas_{key}.csv\"\n",
    "    value.to_csv(file_name, index=False)\n",
    "    print(f\"Arquivo {file_name} criado com sucesso.\")"
   ]
  },
  {
   "cell_type": "code",
   "execution_count": 29,
   "metadata": {},
   "outputs": [
    {
     "data": {
      "text/plain": [
       "'\\nfor key, value in dataframes_dict.items():\\n    file_name = f\"Pocos-pre-processados-sem-conversao/poco_{key}.csv\"\\n    value.to_csv(file_name, index=False)\\n    print(f\"Arquivo {file_name} criado com sucesso.\")\\n'"
      ]
     },
     "execution_count": 29,
     "metadata": {},
     "output_type": "execute_result"
    }
   ],
   "source": [
    "\"\"\"\n",
    "for key, value in dataframes_dict.items():\n",
    "    file_name = f\"Pocos-pre-processados-sem-conversao/poco_{key}.csv\"\n",
    "    value.to_csv(file_name, index=False)\n",
    "    print(f\"Arquivo {file_name} criado com sucesso.\")\n",
    "\"\"\""
   ]
  },
  {
   "cell_type": "markdown",
   "metadata": {},
   "source": [
    "## Análise das anomalias"
   ]
  },
  {
   "cell_type": "code",
   "execution_count": 30,
   "metadata": {},
   "outputs": [
    {
     "ename": "FileNotFoundError",
     "evalue": "[Errno 2] No such file or directory: 'arquivos-secundarios/merged_1-BRSA-551-SE.csv'",
     "output_type": "error",
     "traceback": [
      "\u001b[1;31m---------------------------------------------------------------------------\u001b[0m",
      "\u001b[1;31mFileNotFoundError\u001b[0m                         Traceback (most recent call last)",
      "Cell \u001b[1;32mIn[30], line 1\u001b[0m\n\u001b[1;32m----> 1\u001b[0m fusao_551 \u001b[38;5;241m=\u001b[39m \u001b[43mpd\u001b[49m\u001b[38;5;241;43m.\u001b[39;49m\u001b[43mread_csv\u001b[49m\u001b[43m(\u001b[49m\u001b[38;5;124;43m'\u001b[39;49m\u001b[38;5;124;43marquivos-secundarios/merged_1-BRSA-551-SE.csv\u001b[39;49m\u001b[38;5;124;43m'\u001b[39;49m\u001b[43m)\u001b[49m\n\u001b[0;32m      2\u001b[0m fusao_574 \u001b[38;5;241m=\u001b[39m pd\u001b[38;5;241m.\u001b[39mread_csv(\u001b[38;5;124m'\u001b[39m\u001b[38;5;124marquivos-secundarios/merged_1-BRSA-574-SE.csv\u001b[39m\u001b[38;5;124m'\u001b[39m)\n\u001b[0;32m      3\u001b[0m fusao_595 \u001b[38;5;241m=\u001b[39m pd\u001b[38;5;241m.\u001b[39mread_csv(\u001b[38;5;124m'\u001b[39m\u001b[38;5;124marquivos-secundarios/merged_1-BRSA-595-SE.csv\u001b[39m\u001b[38;5;124m'\u001b[39m)\n",
      "File \u001b[1;32mc:\\Users\\rafae\\AppData\\Local\\Programs\\Python\\Python310\\lib\\site-packages\\pandas\\io\\parsers\\readers.py:948\u001b[0m, in \u001b[0;36mread_csv\u001b[1;34m(filepath_or_buffer, sep, delimiter, header, names, index_col, usecols, dtype, engine, converters, true_values, false_values, skipinitialspace, skiprows, skipfooter, nrows, na_values, keep_default_na, na_filter, verbose, skip_blank_lines, parse_dates, infer_datetime_format, keep_date_col, date_parser, date_format, dayfirst, cache_dates, iterator, chunksize, compression, thousands, decimal, lineterminator, quotechar, quoting, doublequote, escapechar, comment, encoding, encoding_errors, dialect, on_bad_lines, delim_whitespace, low_memory, memory_map, float_precision, storage_options, dtype_backend)\u001b[0m\n\u001b[0;32m    935\u001b[0m kwds_defaults \u001b[38;5;241m=\u001b[39m _refine_defaults_read(\n\u001b[0;32m    936\u001b[0m     dialect,\n\u001b[0;32m    937\u001b[0m     delimiter,\n\u001b[1;32m   (...)\u001b[0m\n\u001b[0;32m    944\u001b[0m     dtype_backend\u001b[38;5;241m=\u001b[39mdtype_backend,\n\u001b[0;32m    945\u001b[0m )\n\u001b[0;32m    946\u001b[0m kwds\u001b[38;5;241m.\u001b[39mupdate(kwds_defaults)\n\u001b[1;32m--> 948\u001b[0m \u001b[38;5;28;01mreturn\u001b[39;00m \u001b[43m_read\u001b[49m\u001b[43m(\u001b[49m\u001b[43mfilepath_or_buffer\u001b[49m\u001b[43m,\u001b[49m\u001b[43m \u001b[49m\u001b[43mkwds\u001b[49m\u001b[43m)\u001b[49m\n",
      "File \u001b[1;32mc:\\Users\\rafae\\AppData\\Local\\Programs\\Python\\Python310\\lib\\site-packages\\pandas\\io\\parsers\\readers.py:611\u001b[0m, in \u001b[0;36m_read\u001b[1;34m(filepath_or_buffer, kwds)\u001b[0m\n\u001b[0;32m    608\u001b[0m _validate_names(kwds\u001b[38;5;241m.\u001b[39mget(\u001b[38;5;124m\"\u001b[39m\u001b[38;5;124mnames\u001b[39m\u001b[38;5;124m\"\u001b[39m, \u001b[38;5;28;01mNone\u001b[39;00m))\n\u001b[0;32m    610\u001b[0m \u001b[38;5;66;03m# Create the parser.\u001b[39;00m\n\u001b[1;32m--> 611\u001b[0m parser \u001b[38;5;241m=\u001b[39m TextFileReader(filepath_or_buffer, \u001b[38;5;241m*\u001b[39m\u001b[38;5;241m*\u001b[39mkwds)\n\u001b[0;32m    613\u001b[0m \u001b[38;5;28;01mif\u001b[39;00m chunksize \u001b[38;5;129;01mor\u001b[39;00m iterator:\n\u001b[0;32m    614\u001b[0m     \u001b[38;5;28;01mreturn\u001b[39;00m parser\n",
      "File \u001b[1;32mc:\\Users\\rafae\\AppData\\Local\\Programs\\Python\\Python310\\lib\\site-packages\\pandas\\io\\parsers\\readers.py:1448\u001b[0m, in \u001b[0;36mTextFileReader.__init__\u001b[1;34m(self, f, engine, **kwds)\u001b[0m\n\u001b[0;32m   1445\u001b[0m     \u001b[38;5;28mself\u001b[39m\u001b[38;5;241m.\u001b[39moptions[\u001b[38;5;124m\"\u001b[39m\u001b[38;5;124mhas_index_names\u001b[39m\u001b[38;5;124m\"\u001b[39m] \u001b[38;5;241m=\u001b[39m kwds[\u001b[38;5;124m\"\u001b[39m\u001b[38;5;124mhas_index_names\u001b[39m\u001b[38;5;124m\"\u001b[39m]\n\u001b[0;32m   1447\u001b[0m \u001b[38;5;28mself\u001b[39m\u001b[38;5;241m.\u001b[39mhandles: IOHandles \u001b[38;5;241m|\u001b[39m \u001b[38;5;28;01mNone\u001b[39;00m \u001b[38;5;241m=\u001b[39m \u001b[38;5;28;01mNone\u001b[39;00m\n\u001b[1;32m-> 1448\u001b[0m \u001b[38;5;28mself\u001b[39m\u001b[38;5;241m.\u001b[39m_engine \u001b[38;5;241m=\u001b[39m \u001b[38;5;28;43mself\u001b[39;49m\u001b[38;5;241;43m.\u001b[39;49m\u001b[43m_make_engine\u001b[49m\u001b[43m(\u001b[49m\u001b[43mf\u001b[49m\u001b[43m,\u001b[49m\u001b[43m \u001b[49m\u001b[38;5;28;43mself\u001b[39;49m\u001b[38;5;241;43m.\u001b[39;49m\u001b[43mengine\u001b[49m\u001b[43m)\u001b[49m\n",
      "File \u001b[1;32mc:\\Users\\rafae\\AppData\\Local\\Programs\\Python\\Python310\\lib\\site-packages\\pandas\\io\\parsers\\readers.py:1705\u001b[0m, in \u001b[0;36mTextFileReader._make_engine\u001b[1;34m(self, f, engine)\u001b[0m\n\u001b[0;32m   1703\u001b[0m     \u001b[38;5;28;01mif\u001b[39;00m \u001b[38;5;124m\"\u001b[39m\u001b[38;5;124mb\u001b[39m\u001b[38;5;124m\"\u001b[39m \u001b[38;5;129;01mnot\u001b[39;00m \u001b[38;5;129;01min\u001b[39;00m mode:\n\u001b[0;32m   1704\u001b[0m         mode \u001b[38;5;241m+\u001b[39m\u001b[38;5;241m=\u001b[39m \u001b[38;5;124m\"\u001b[39m\u001b[38;5;124mb\u001b[39m\u001b[38;5;124m\"\u001b[39m\n\u001b[1;32m-> 1705\u001b[0m \u001b[38;5;28mself\u001b[39m\u001b[38;5;241m.\u001b[39mhandles \u001b[38;5;241m=\u001b[39m \u001b[43mget_handle\u001b[49m\u001b[43m(\u001b[49m\n\u001b[0;32m   1706\u001b[0m \u001b[43m    \u001b[49m\u001b[43mf\u001b[49m\u001b[43m,\u001b[49m\n\u001b[0;32m   1707\u001b[0m \u001b[43m    \u001b[49m\u001b[43mmode\u001b[49m\u001b[43m,\u001b[49m\n\u001b[0;32m   1708\u001b[0m \u001b[43m    \u001b[49m\u001b[43mencoding\u001b[49m\u001b[38;5;241;43m=\u001b[39;49m\u001b[38;5;28;43mself\u001b[39;49m\u001b[38;5;241;43m.\u001b[39;49m\u001b[43moptions\u001b[49m\u001b[38;5;241;43m.\u001b[39;49m\u001b[43mget\u001b[49m\u001b[43m(\u001b[49m\u001b[38;5;124;43m\"\u001b[39;49m\u001b[38;5;124;43mencoding\u001b[39;49m\u001b[38;5;124;43m\"\u001b[39;49m\u001b[43m,\u001b[49m\u001b[43m \u001b[49m\u001b[38;5;28;43;01mNone\u001b[39;49;00m\u001b[43m)\u001b[49m\u001b[43m,\u001b[49m\n\u001b[0;32m   1709\u001b[0m \u001b[43m    \u001b[49m\u001b[43mcompression\u001b[49m\u001b[38;5;241;43m=\u001b[39;49m\u001b[38;5;28;43mself\u001b[39;49m\u001b[38;5;241;43m.\u001b[39;49m\u001b[43moptions\u001b[49m\u001b[38;5;241;43m.\u001b[39;49m\u001b[43mget\u001b[49m\u001b[43m(\u001b[49m\u001b[38;5;124;43m\"\u001b[39;49m\u001b[38;5;124;43mcompression\u001b[39;49m\u001b[38;5;124;43m\"\u001b[39;49m\u001b[43m,\u001b[49m\u001b[43m \u001b[49m\u001b[38;5;28;43;01mNone\u001b[39;49;00m\u001b[43m)\u001b[49m\u001b[43m,\u001b[49m\n\u001b[0;32m   1710\u001b[0m \u001b[43m    \u001b[49m\u001b[43mmemory_map\u001b[49m\u001b[38;5;241;43m=\u001b[39;49m\u001b[38;5;28;43mself\u001b[39;49m\u001b[38;5;241;43m.\u001b[39;49m\u001b[43moptions\u001b[49m\u001b[38;5;241;43m.\u001b[39;49m\u001b[43mget\u001b[49m\u001b[43m(\u001b[49m\u001b[38;5;124;43m\"\u001b[39;49m\u001b[38;5;124;43mmemory_map\u001b[39;49m\u001b[38;5;124;43m\"\u001b[39;49m\u001b[43m,\u001b[49m\u001b[43m \u001b[49m\u001b[38;5;28;43;01mFalse\u001b[39;49;00m\u001b[43m)\u001b[49m\u001b[43m,\u001b[49m\n\u001b[0;32m   1711\u001b[0m \u001b[43m    \u001b[49m\u001b[43mis_text\u001b[49m\u001b[38;5;241;43m=\u001b[39;49m\u001b[43mis_text\u001b[49m\u001b[43m,\u001b[49m\n\u001b[0;32m   1712\u001b[0m \u001b[43m    \u001b[49m\u001b[43merrors\u001b[49m\u001b[38;5;241;43m=\u001b[39;49m\u001b[38;5;28;43mself\u001b[39;49m\u001b[38;5;241;43m.\u001b[39;49m\u001b[43moptions\u001b[49m\u001b[38;5;241;43m.\u001b[39;49m\u001b[43mget\u001b[49m\u001b[43m(\u001b[49m\u001b[38;5;124;43m\"\u001b[39;49m\u001b[38;5;124;43mencoding_errors\u001b[39;49m\u001b[38;5;124;43m\"\u001b[39;49m\u001b[43m,\u001b[49m\u001b[43m \u001b[49m\u001b[38;5;124;43m\"\u001b[39;49m\u001b[38;5;124;43mstrict\u001b[39;49m\u001b[38;5;124;43m\"\u001b[39;49m\u001b[43m)\u001b[49m\u001b[43m,\u001b[49m\n\u001b[0;32m   1713\u001b[0m \u001b[43m    \u001b[49m\u001b[43mstorage_options\u001b[49m\u001b[38;5;241;43m=\u001b[39;49m\u001b[38;5;28;43mself\u001b[39;49m\u001b[38;5;241;43m.\u001b[39;49m\u001b[43moptions\u001b[49m\u001b[38;5;241;43m.\u001b[39;49m\u001b[43mget\u001b[49m\u001b[43m(\u001b[49m\u001b[38;5;124;43m\"\u001b[39;49m\u001b[38;5;124;43mstorage_options\u001b[39;49m\u001b[38;5;124;43m\"\u001b[39;49m\u001b[43m,\u001b[49m\u001b[43m \u001b[49m\u001b[38;5;28;43;01mNone\u001b[39;49;00m\u001b[43m)\u001b[49m\u001b[43m,\u001b[49m\n\u001b[0;32m   1714\u001b[0m \u001b[43m\u001b[49m\u001b[43m)\u001b[49m\n\u001b[0;32m   1715\u001b[0m \u001b[38;5;28;01massert\u001b[39;00m \u001b[38;5;28mself\u001b[39m\u001b[38;5;241m.\u001b[39mhandles \u001b[38;5;129;01mis\u001b[39;00m \u001b[38;5;129;01mnot\u001b[39;00m \u001b[38;5;28;01mNone\u001b[39;00m\n\u001b[0;32m   1716\u001b[0m f \u001b[38;5;241m=\u001b[39m \u001b[38;5;28mself\u001b[39m\u001b[38;5;241m.\u001b[39mhandles\u001b[38;5;241m.\u001b[39mhandle\n",
      "File \u001b[1;32mc:\\Users\\rafae\\AppData\\Local\\Programs\\Python\\Python310\\lib\\site-packages\\pandas\\io\\common.py:863\u001b[0m, in \u001b[0;36mget_handle\u001b[1;34m(path_or_buf, mode, encoding, compression, memory_map, is_text, errors, storage_options)\u001b[0m\n\u001b[0;32m    858\u001b[0m \u001b[38;5;28;01melif\u001b[39;00m \u001b[38;5;28misinstance\u001b[39m(handle, \u001b[38;5;28mstr\u001b[39m):\n\u001b[0;32m    859\u001b[0m     \u001b[38;5;66;03m# Check whether the filename is to be opened in binary mode.\u001b[39;00m\n\u001b[0;32m    860\u001b[0m     \u001b[38;5;66;03m# Binary mode does not support 'encoding' and 'newline'.\u001b[39;00m\n\u001b[0;32m    861\u001b[0m     \u001b[38;5;28;01mif\u001b[39;00m ioargs\u001b[38;5;241m.\u001b[39mencoding \u001b[38;5;129;01mand\u001b[39;00m \u001b[38;5;124m\"\u001b[39m\u001b[38;5;124mb\u001b[39m\u001b[38;5;124m\"\u001b[39m \u001b[38;5;129;01mnot\u001b[39;00m \u001b[38;5;129;01min\u001b[39;00m ioargs\u001b[38;5;241m.\u001b[39mmode:\n\u001b[0;32m    862\u001b[0m         \u001b[38;5;66;03m# Encoding\u001b[39;00m\n\u001b[1;32m--> 863\u001b[0m         handle \u001b[38;5;241m=\u001b[39m \u001b[38;5;28;43mopen\u001b[39;49m\u001b[43m(\u001b[49m\n\u001b[0;32m    864\u001b[0m \u001b[43m            \u001b[49m\u001b[43mhandle\u001b[49m\u001b[43m,\u001b[49m\n\u001b[0;32m    865\u001b[0m \u001b[43m            \u001b[49m\u001b[43mioargs\u001b[49m\u001b[38;5;241;43m.\u001b[39;49m\u001b[43mmode\u001b[49m\u001b[43m,\u001b[49m\n\u001b[0;32m    866\u001b[0m \u001b[43m            \u001b[49m\u001b[43mencoding\u001b[49m\u001b[38;5;241;43m=\u001b[39;49m\u001b[43mioargs\u001b[49m\u001b[38;5;241;43m.\u001b[39;49m\u001b[43mencoding\u001b[49m\u001b[43m,\u001b[49m\n\u001b[0;32m    867\u001b[0m \u001b[43m            \u001b[49m\u001b[43merrors\u001b[49m\u001b[38;5;241;43m=\u001b[39;49m\u001b[43merrors\u001b[49m\u001b[43m,\u001b[49m\n\u001b[0;32m    868\u001b[0m \u001b[43m            \u001b[49m\u001b[43mnewline\u001b[49m\u001b[38;5;241;43m=\u001b[39;49m\u001b[38;5;124;43m\"\u001b[39;49m\u001b[38;5;124;43m\"\u001b[39;49m\u001b[43m,\u001b[49m\n\u001b[0;32m    869\u001b[0m \u001b[43m        \u001b[49m\u001b[43m)\u001b[49m\n\u001b[0;32m    870\u001b[0m     \u001b[38;5;28;01melse\u001b[39;00m:\n\u001b[0;32m    871\u001b[0m         \u001b[38;5;66;03m# Binary mode\u001b[39;00m\n\u001b[0;32m    872\u001b[0m         handle \u001b[38;5;241m=\u001b[39m \u001b[38;5;28mopen\u001b[39m(handle, ioargs\u001b[38;5;241m.\u001b[39mmode)\n",
      "\u001b[1;31mFileNotFoundError\u001b[0m: [Errno 2] No such file or directory: 'arquivos-secundarios/merged_1-BRSA-551-SE.csv'"
     ]
    }
   ],
   "source": [
    "fusao_551 = pd.read_csv('arquivos-secundarios/merged_1-BRSA-551-SE.csv')\n",
    "fusao_574 = pd.read_csv('arquivos-secundarios/merged_1-BRSA-574-SE.csv')\n",
    "fusao_595 = pd.read_csv('arquivos-secundarios/merged_1-BRSA-595-SE.csv')\n",
    "fusao_605 = pd.read_csv('arquivos-secundarios/merged_1-BRSA-605-SE.csv')\n",
    "fusao_659 = pd.read_csv('arquivos-secundarios/merged_1-BRSA-659-SE.csv')\n",
    "fusao_689 = pd.read_csv('arquivos-secundarios/merged_1-BRSA-689-SE.csv')\n",
    "fusao_696 = pd.read_csv('arquivos-secundarios/merged_1-BRSA-696-SE.csv')\n",
    "fusao_698 = pd.read_csv('arquivos-secundarios/merged_1-BRSA-698-SE.csv')"
   ]
  },
  {
   "cell_type": "markdown",
   "metadata": {},
   "source": [
    "#### Anidrita nos poços P_595 e P_605"
   ]
  },
  {
   "cell_type": "code",
   "execution_count": null,
   "metadata": {},
   "outputs": [],
   "source": [
    "# Arredonda os valores de TDEP\n",
    "for key, value in dataframes_dict.items():\n",
    "    dataframes_dict[key]['TDEP'] = dataframes_dict[key]['TDEP'].round(1)"
   ]
  },
  {
   "cell_type": "code",
   "execution_count": null,
   "metadata": {},
   "outputs": [],
   "source": [
    "# Separa as curvas de interesse nos dados da extração dos .dlis\n",
    "tdep_gr = ['TDEP', 'GR']\n",
    "dlis_595 = dataframes_dict['1-BRSA-595-SE'][tdep_gr]\n",
    "dlis_605 = dataframes_dict['1-BRSA-605-SE'][tdep_gr]"
   ]
  },
  {
   "cell_type": "code",
   "execution_count": null,
   "metadata": {},
   "outputs": [],
   "source": [
    "# Separa as curvas de interesse nos dados da fusão\n",
    "profundidade_litologia_gr = ['Poço', 'Profundidade', 'Litologia', 'GR']\n",
    "anidrita_595 = fusao_595[profundidade_litologia_gr]\n",
    "anidrita_605 = fusao_605[profundidade_litologia_gr]"
   ]
  },
  {
   "cell_type": "code",
   "execution_count": null,
   "metadata": {},
   "outputs": [],
   "source": [
    "anidrita_595 = pd.merge(anidrita_595, dlis_595, left_on='Profundidade', right_on='TDEP')\n",
    "anidrita_605 = pd.merge(anidrita_605, dlis_605, left_on='Profundidade', right_on='TDEP')"
   ]
  },
  {
   "cell_type": "code",
   "execution_count": null,
   "metadata": {},
   "outputs": [],
   "source": [
    "renomeia_coluna(anidrita_595, 'GR_x', 'GR_fusão')\n",
    "renomeia_coluna(anidrita_595, 'GR_y', 'GR_dlis')\n",
    "\n",
    "renomeia_coluna(anidrita_605, 'GR_x', 'GR_fusão')\n",
    "renomeia_coluna(anidrita_605, 'GR_y', 'GR_dlis')"
   ]
  },
  {
   "cell_type": "code",
   "execution_count": null,
   "metadata": {},
   "outputs": [],
   "source": [
    "renomeia_coluna(anidrita_595, 'Profundidade', 'Profundidade (fusão)')\n",
    "renomeia_coluna(anidrita_595, 'TDEP', 'TDEP (dlis)')\n",
    "\n",
    "renomeia_coluna(anidrita_605, 'Profundidade', 'Profundidade (fusão)')\n",
    "renomeia_coluna(anidrita_605, 'TDEP', 'TDEP (dlis)')"
   ]
  },
  {
   "cell_type": "code",
   "execution_count": null,
   "metadata": {},
   "outputs": [],
   "source": [
    "anidrita_595 = anidrita_595.reindex(columns=['Poço', 'Litologia', 'Profundidade (fusão)', 'TDEP (dlis)', 'GR_fusão', 'GR_dlis'])\n",
    "anidrita_605 = anidrita_605.reindex(columns=['Poço', 'Litologia', 'Profundidade (fusão)', 'TDEP (dlis)', 'GR_fusão', 'GR_dlis'])"
   ]
  },
  {
   "cell_type": "code",
   "execution_count": null,
   "metadata": {},
   "outputs": [],
   "source": [
    "anidrita_595 = anidrita_595[anidrita_595['Litologia'] == 'ANIDRITA']\n",
    "anidrita_605 = anidrita_605[anidrita_605['Litologia'] == 'ANIDRITA']"
   ]
  },
  {
   "cell_type": "code",
   "execution_count": null,
   "metadata": {},
   "outputs": [
    {
     "data": {
      "text/html": [
       "<div>\n",
       "<style scoped>\n",
       "    .dataframe tbody tr th:only-of-type {\n",
       "        vertical-align: middle;\n",
       "    }\n",
       "\n",
       "    .dataframe tbody tr th {\n",
       "        vertical-align: top;\n",
       "    }\n",
       "\n",
       "    .dataframe thead th {\n",
       "        text-align: right;\n",
       "    }\n",
       "</style>\n",
       "<table border=\"1\" class=\"dataframe\">\n",
       "  <thead>\n",
       "    <tr style=\"text-align: right;\">\n",
       "      <th></th>\n",
       "      <th>Poço</th>\n",
       "      <th>Litologia</th>\n",
       "      <th>Profundidade (fusão)</th>\n",
       "      <th>TDEP (dlis)</th>\n",
       "      <th>GR_fusão</th>\n",
       "      <th>GR_dlis</th>\n",
       "      <th>Diferença GR</th>\n",
       "    </tr>\n",
       "  </thead>\n",
       "  <tbody>\n",
       "    <tr>\n",
       "      <th>568</th>\n",
       "      <td>1-BRSA-605-SE</td>\n",
       "      <td>ANIDRITA</td>\n",
       "      <td>459.0</td>\n",
       "      <td>459.0</td>\n",
       "      <td>50.378628</td>\n",
       "      <td>50.378628</td>\n",
       "      <td>2.229004e-07</td>\n",
       "    </tr>\n",
       "    <tr>\n",
       "      <th>569</th>\n",
       "      <td>1-BRSA-605-SE</td>\n",
       "      <td>ANIDRITA</td>\n",
       "      <td>459.5</td>\n",
       "      <td>459.5</td>\n",
       "      <td>52.740740</td>\n",
       "      <td>52.740742</td>\n",
       "      <td>-1.729736e-06</td>\n",
       "    </tr>\n",
       "    <tr>\n",
       "      <th>597</th>\n",
       "      <td>1-BRSA-605-SE</td>\n",
       "      <td>ANIDRITA</td>\n",
       "      <td>481.0</td>\n",
       "      <td>481.0</td>\n",
       "      <td>24.169436</td>\n",
       "      <td>24.169436</td>\n",
       "      <td>4.989014e-07</td>\n",
       "    </tr>\n",
       "    <tr>\n",
       "      <th>598</th>\n",
       "      <td>1-BRSA-605-SE</td>\n",
       "      <td>ANIDRITA</td>\n",
       "      <td>482.0</td>\n",
       "      <td>482.0</td>\n",
       "      <td>27.013620</td>\n",
       "      <td>27.013620</td>\n",
       "      <td>-3.765869e-07</td>\n",
       "    </tr>\n",
       "    <tr>\n",
       "      <th>599</th>\n",
       "      <td>1-BRSA-605-SE</td>\n",
       "      <td>ANIDRITA</td>\n",
       "      <td>482.5</td>\n",
       "      <td>482.5</td>\n",
       "      <td>23.636969</td>\n",
       "      <td>23.636969</td>\n",
       "      <td>3.873291e-07</td>\n",
       "    </tr>\n",
       "    <tr>\n",
       "      <th>601</th>\n",
       "      <td>1-BRSA-605-SE</td>\n",
       "      <td>ANIDRITA</td>\n",
       "      <td>484.0</td>\n",
       "      <td>484.0</td>\n",
       "      <td>62.256520</td>\n",
       "      <td>62.256519</td>\n",
       "      <td>6.823730e-07</td>\n",
       "    </tr>\n",
       "    <tr>\n",
       "      <th>602</th>\n",
       "      <td>1-BRSA-605-SE</td>\n",
       "      <td>ANIDRITA</td>\n",
       "      <td>484.5</td>\n",
       "      <td>484.5</td>\n",
       "      <td>27.865974</td>\n",
       "      <td>27.865974</td>\n",
       "      <td>-4.262695e-07</td>\n",
       "    </tr>\n",
       "    <tr>\n",
       "      <th>603</th>\n",
       "      <td>1-BRSA-605-SE</td>\n",
       "      <td>ANIDRITA</td>\n",
       "      <td>485.5</td>\n",
       "      <td>485.5</td>\n",
       "      <td>21.722290</td>\n",
       "      <td>21.722290</td>\n",
       "      <td>-3.906250e-08</td>\n",
       "    </tr>\n",
       "    <tr>\n",
       "      <th>604</th>\n",
       "      <td>1-BRSA-605-SE</td>\n",
       "      <td>ANIDRITA</td>\n",
       "      <td>486.0</td>\n",
       "      <td>486.0</td>\n",
       "      <td>24.484602</td>\n",
       "      <td>24.484602</td>\n",
       "      <td>2.551269e-08</td>\n",
       "    </tr>\n",
       "    <tr>\n",
       "      <th>605</th>\n",
       "      <td>1-BRSA-605-SE</td>\n",
       "      <td>ANIDRITA</td>\n",
       "      <td>486.5</td>\n",
       "      <td>486.5</td>\n",
       "      <td>23.354660</td>\n",
       "      <td>23.354660</td>\n",
       "      <td>-3.417969e-08</td>\n",
       "    </tr>\n",
       "    <tr>\n",
       "      <th>606</th>\n",
       "      <td>1-BRSA-605-SE</td>\n",
       "      <td>ANIDRITA</td>\n",
       "      <td>487.5</td>\n",
       "      <td>487.5</td>\n",
       "      <td>20.973925</td>\n",
       "      <td>20.973925</td>\n",
       "      <td>3.631592e-07</td>\n",
       "    </tr>\n",
       "    <tr>\n",
       "      <th>607</th>\n",
       "      <td>1-BRSA-605-SE</td>\n",
       "      <td>ANIDRITA</td>\n",
       "      <td>488.0</td>\n",
       "      <td>488.0</td>\n",
       "      <td>25.891218</td>\n",
       "      <td>25.891218</td>\n",
       "      <td>-1.854248e-07</td>\n",
       "    </tr>\n",
       "    <tr>\n",
       "      <th>608</th>\n",
       "      <td>1-BRSA-605-SE</td>\n",
       "      <td>ANIDRITA</td>\n",
       "      <td>489.5</td>\n",
       "      <td>489.5</td>\n",
       "      <td>21.003962</td>\n",
       "      <td>21.003962</td>\n",
       "      <td>4.368896e-07</td>\n",
       "    </tr>\n",
       "    <tr>\n",
       "      <th>609</th>\n",
       "      <td>1-BRSA-605-SE</td>\n",
       "      <td>ANIDRITA</td>\n",
       "      <td>490.0</td>\n",
       "      <td>490.0</td>\n",
       "      <td>24.130018</td>\n",
       "      <td>24.130018</td>\n",
       "      <td>-2.342529e-07</td>\n",
       "    </tr>\n",
       "    <tr>\n",
       "      <th>610</th>\n",
       "      <td>1-BRSA-605-SE</td>\n",
       "      <td>ANIDRITA</td>\n",
       "      <td>491.0</td>\n",
       "      <td>491.0</td>\n",
       "      <td>22.761412</td>\n",
       "      <td>22.761412</td>\n",
       "      <td>3.331299e-07</td>\n",
       "    </tr>\n",
       "    <tr>\n",
       "      <th>611</th>\n",
       "      <td>1-BRSA-605-SE</td>\n",
       "      <td>ANIDRITA</td>\n",
       "      <td>491.5</td>\n",
       "      <td>491.5</td>\n",
       "      <td>34.887325</td>\n",
       "      <td>34.887325</td>\n",
       "      <td>-2.868652e-07</td>\n",
       "    </tr>\n",
       "    <tr>\n",
       "      <th>612</th>\n",
       "      <td>1-BRSA-605-SE</td>\n",
       "      <td>ANIDRITA</td>\n",
       "      <td>493.0</td>\n",
       "      <td>493.0</td>\n",
       "      <td>39.029740</td>\n",
       "      <td>39.029739</td>\n",
       "      <td>6.201172e-07</td>\n",
       "    </tr>\n",
       "    <tr>\n",
       "      <th>613</th>\n",
       "      <td>1-BRSA-605-SE</td>\n",
       "      <td>ANIDRITA</td>\n",
       "      <td>493.5</td>\n",
       "      <td>493.5</td>\n",
       "      <td>38.403637</td>\n",
       "      <td>38.403637</td>\n",
       "      <td>6.762696e-08</td>\n",
       "    </tr>\n",
       "    <tr>\n",
       "      <th>614</th>\n",
       "      <td>1-BRSA-605-SE</td>\n",
       "      <td>ANIDRITA</td>\n",
       "      <td>494.5</td>\n",
       "      <td>494.5</td>\n",
       "      <td>28.658460</td>\n",
       "      <td>28.658461</td>\n",
       "      <td>-6.170654e-07</td>\n",
       "    </tr>\n",
       "    <tr>\n",
       "      <th>615</th>\n",
       "      <td>1-BRSA-605-SE</td>\n",
       "      <td>ANIDRITA</td>\n",
       "      <td>495.0</td>\n",
       "      <td>495.0</td>\n",
       "      <td>27.074808</td>\n",
       "      <td>27.074808</td>\n",
       "      <td>-1.207275e-07</td>\n",
       "    </tr>\n",
       "    <tr>\n",
       "      <th>616</th>\n",
       "      <td>1-BRSA-605-SE</td>\n",
       "      <td>ANIDRITA</td>\n",
       "      <td>495.5</td>\n",
       "      <td>495.5</td>\n",
       "      <td>36.303097</td>\n",
       "      <td>36.303097</td>\n",
       "      <td>2.287598e-07</td>\n",
       "    </tr>\n",
       "    <tr>\n",
       "      <th>617</th>\n",
       "      <td>1-BRSA-605-SE</td>\n",
       "      <td>ANIDRITA</td>\n",
       "      <td>496.5</td>\n",
       "      <td>496.5</td>\n",
       "      <td>26.768888</td>\n",
       "      <td>26.768888</td>\n",
       "      <td>-4.735107e-07</td>\n",
       "    </tr>\n",
       "    <tr>\n",
       "      <th>618</th>\n",
       "      <td>1-BRSA-605-SE</td>\n",
       "      <td>ANIDRITA</td>\n",
       "      <td>497.0</td>\n",
       "      <td>497.0</td>\n",
       "      <td>20.404016</td>\n",
       "      <td>20.404016</td>\n",
       "      <td>-4.947510e-07</td>\n",
       "    </tr>\n",
       "    <tr>\n",
       "      <th>619</th>\n",
       "      <td>1-BRSA-605-SE</td>\n",
       "      <td>ANIDRITA</td>\n",
       "      <td>498.0</td>\n",
       "      <td>498.0</td>\n",
       "      <td>23.660010</td>\n",
       "      <td>23.660009</td>\n",
       "      <td>6.158447e-07</td>\n",
       "    </tr>\n",
       "    <tr>\n",
       "      <th>620</th>\n",
       "      <td>1-BRSA-605-SE</td>\n",
       "      <td>ANIDRITA</td>\n",
       "      <td>498.5</td>\n",
       "      <td>498.5</td>\n",
       "      <td>29.753431</td>\n",
       "      <td>29.753431</td>\n",
       "      <td>-3.201904e-07</td>\n",
       "    </tr>\n",
       "    <tr>\n",
       "      <th>621</th>\n",
       "      <td>1-BRSA-605-SE</td>\n",
       "      <td>ANIDRITA</td>\n",
       "      <td>499.0</td>\n",
       "      <td>499.0</td>\n",
       "      <td>57.487305</td>\n",
       "      <td>57.487305</td>\n",
       "      <td>3.125000e-07</td>\n",
       "    </tr>\n",
       "    <tr>\n",
       "      <th>642</th>\n",
       "      <td>1-BRSA-605-SE</td>\n",
       "      <td>ANIDRITA</td>\n",
       "      <td>515.0</td>\n",
       "      <td>515.0</td>\n",
       "      <td>31.883303</td>\n",
       "      <td>31.883303</td>\n",
       "      <td>3.114014e-07</td>\n",
       "    </tr>\n",
       "    <tr>\n",
       "      <th>643</th>\n",
       "      <td>1-BRSA-605-SE</td>\n",
       "      <td>ANIDRITA</td>\n",
       "      <td>516.0</td>\n",
       "      <td>516.0</td>\n",
       "      <td>53.136738</td>\n",
       "      <td>53.136738</td>\n",
       "      <td>1.765137e-07</td>\n",
       "    </tr>\n",
       "    <tr>\n",
       "      <th>644</th>\n",
       "      <td>1-BRSA-605-SE</td>\n",
       "      <td>ANIDRITA</td>\n",
       "      <td>516.5</td>\n",
       "      <td>516.5</td>\n",
       "      <td>57.315002</td>\n",
       "      <td>57.315002</td>\n",
       "      <td>-4.414063e-07</td>\n",
       "    </tr>\n",
       "    <tr>\n",
       "      <th>645</th>\n",
       "      <td>1-BRSA-605-SE</td>\n",
       "      <td>ANIDRITA</td>\n",
       "      <td>518.0</td>\n",
       "      <td>518.0</td>\n",
       "      <td>42.165176</td>\n",
       "      <td>42.165176</td>\n",
       "      <td>-3.916016e-07</td>\n",
       "    </tr>\n",
       "    <tr>\n",
       "      <th>646</th>\n",
       "      <td>1-BRSA-605-SE</td>\n",
       "      <td>ANIDRITA</td>\n",
       "      <td>518.5</td>\n",
       "      <td>518.5</td>\n",
       "      <td>41.966633</td>\n",
       "      <td>41.966633</td>\n",
       "      <td>1.569824e-07</td>\n",
       "    </tr>\n",
       "    <tr>\n",
       "      <th>647</th>\n",
       "      <td>1-BRSA-605-SE</td>\n",
       "      <td>ANIDRITA</td>\n",
       "      <td>519.5</td>\n",
       "      <td>519.5</td>\n",
       "      <td>31.600296</td>\n",
       "      <td>31.600296</td>\n",
       "      <td>-2.050781e-08</td>\n",
       "    </tr>\n",
       "    <tr>\n",
       "      <th>648</th>\n",
       "      <td>1-BRSA-605-SE</td>\n",
       "      <td>ANIDRITA</td>\n",
       "      <td>520.0</td>\n",
       "      <td>520.0</td>\n",
       "      <td>33.406734</td>\n",
       "      <td>33.406734</td>\n",
       "      <td>-4.665527e-07</td>\n",
       "    </tr>\n",
       "    <tr>\n",
       "      <th>649</th>\n",
       "      <td>1-BRSA-605-SE</td>\n",
       "      <td>ANIDRITA</td>\n",
       "      <td>521.5</td>\n",
       "      <td>521.5</td>\n",
       "      <td>37.739754</td>\n",
       "      <td>37.739754</td>\n",
       "      <td>2.768555e-07</td>\n",
       "    </tr>\n",
       "    <tr>\n",
       "      <th>650</th>\n",
       "      <td>1-BRSA-605-SE</td>\n",
       "      <td>ANIDRITA</td>\n",
       "      <td>522.0</td>\n",
       "      <td>522.0</td>\n",
       "      <td>35.205307</td>\n",
       "      <td>35.205307</td>\n",
       "      <td>-6.835940e-09</td>\n",
       "    </tr>\n",
       "    <tr>\n",
       "      <th>651</th>\n",
       "      <td>1-BRSA-605-SE</td>\n",
       "      <td>ANIDRITA</td>\n",
       "      <td>523.0</td>\n",
       "      <td>523.0</td>\n",
       "      <td>48.930027</td>\n",
       "      <td>48.930027</td>\n",
       "      <td>-8.056638e-09</td>\n",
       "    </tr>\n",
       "    <tr>\n",
       "      <th>652</th>\n",
       "      <td>1-BRSA-605-SE</td>\n",
       "      <td>ANIDRITA</td>\n",
       "      <td>523.5</td>\n",
       "      <td>523.5</td>\n",
       "      <td>53.263226</td>\n",
       "      <td>53.263226</td>\n",
       "      <td>4.445801e-07</td>\n",
       "    </tr>\n",
       "    <tr>\n",
       "      <th>653</th>\n",
       "      <td>1-BRSA-605-SE</td>\n",
       "      <td>ANIDRITA</td>\n",
       "      <td>524.0</td>\n",
       "      <td>524.0</td>\n",
       "      <td>52.879536</td>\n",
       "      <td>52.879536</td>\n",
       "      <td>3.249512e-07</td>\n",
       "    </tr>\n",
       "    <tr>\n",
       "      <th>654</th>\n",
       "      <td>1-BRSA-605-SE</td>\n",
       "      <td>ANIDRITA</td>\n",
       "      <td>525.0</td>\n",
       "      <td>525.0</td>\n",
       "      <td>53.921467</td>\n",
       "      <td>53.921467</td>\n",
       "      <td>1.726074e-07</td>\n",
       "    </tr>\n",
       "    <tr>\n",
       "      <th>655</th>\n",
       "      <td>1-BRSA-605-SE</td>\n",
       "      <td>ANIDRITA</td>\n",
       "      <td>525.5</td>\n",
       "      <td>525.5</td>\n",
       "      <td>67.276596</td>\n",
       "      <td>67.276596</td>\n",
       "      <td>-6.933594e-08</td>\n",
       "    </tr>\n",
       "    <tr>\n",
       "      <th>656</th>\n",
       "      <td>1-BRSA-605-SE</td>\n",
       "      <td>ANIDRITA</td>\n",
       "      <td>526.5</td>\n",
       "      <td>526.5</td>\n",
       "      <td>62.113354</td>\n",
       "      <td>62.113354</td>\n",
       "      <td>2.707520e-07</td>\n",
       "    </tr>\n",
       "    <tr>\n",
       "      <th>657</th>\n",
       "      <td>1-BRSA-605-SE</td>\n",
       "      <td>ANIDRITA</td>\n",
       "      <td>527.0</td>\n",
       "      <td>527.0</td>\n",
       "      <td>49.658220</td>\n",
       "      <td>49.658218</td>\n",
       "      <td>1.616211e-06</td>\n",
       "    </tr>\n",
       "    <tr>\n",
       "      <th>658</th>\n",
       "      <td>1-BRSA-605-SE</td>\n",
       "      <td>ANIDRITA</td>\n",
       "      <td>527.5</td>\n",
       "      <td>527.5</td>\n",
       "      <td>67.141670</td>\n",
       "      <td>67.141670</td>\n",
       "      <td>-2.270508e-07</td>\n",
       "    </tr>\n",
       "    <tr>\n",
       "      <th>659</th>\n",
       "      <td>1-BRSA-605-SE</td>\n",
       "      <td>ANIDRITA</td>\n",
       "      <td>528.5</td>\n",
       "      <td>528.5</td>\n",
       "      <td>118.656590</td>\n",
       "      <td>118.656593</td>\n",
       "      <td>-3.322754e-06</td>\n",
       "    </tr>\n",
       "  </tbody>\n",
       "</table>\n",
       "</div>"
      ],
      "text/plain": [
       "              Poço Litologia  Profundidade (fusão)  TDEP (dlis)    GR_fusão  \\\n",
       "568  1-BRSA-605-SE  ANIDRITA                 459.0        459.0   50.378628   \n",
       "569  1-BRSA-605-SE  ANIDRITA                 459.5        459.5   52.740740   \n",
       "597  1-BRSA-605-SE  ANIDRITA                 481.0        481.0   24.169436   \n",
       "598  1-BRSA-605-SE  ANIDRITA                 482.0        482.0   27.013620   \n",
       "599  1-BRSA-605-SE  ANIDRITA                 482.5        482.5   23.636969   \n",
       "601  1-BRSA-605-SE  ANIDRITA                 484.0        484.0   62.256520   \n",
       "602  1-BRSA-605-SE  ANIDRITA                 484.5        484.5   27.865974   \n",
       "603  1-BRSA-605-SE  ANIDRITA                 485.5        485.5   21.722290   \n",
       "604  1-BRSA-605-SE  ANIDRITA                 486.0        486.0   24.484602   \n",
       "605  1-BRSA-605-SE  ANIDRITA                 486.5        486.5   23.354660   \n",
       "606  1-BRSA-605-SE  ANIDRITA                 487.5        487.5   20.973925   \n",
       "607  1-BRSA-605-SE  ANIDRITA                 488.0        488.0   25.891218   \n",
       "608  1-BRSA-605-SE  ANIDRITA                 489.5        489.5   21.003962   \n",
       "609  1-BRSA-605-SE  ANIDRITA                 490.0        490.0   24.130018   \n",
       "610  1-BRSA-605-SE  ANIDRITA                 491.0        491.0   22.761412   \n",
       "611  1-BRSA-605-SE  ANIDRITA                 491.5        491.5   34.887325   \n",
       "612  1-BRSA-605-SE  ANIDRITA                 493.0        493.0   39.029740   \n",
       "613  1-BRSA-605-SE  ANIDRITA                 493.5        493.5   38.403637   \n",
       "614  1-BRSA-605-SE  ANIDRITA                 494.5        494.5   28.658460   \n",
       "615  1-BRSA-605-SE  ANIDRITA                 495.0        495.0   27.074808   \n",
       "616  1-BRSA-605-SE  ANIDRITA                 495.5        495.5   36.303097   \n",
       "617  1-BRSA-605-SE  ANIDRITA                 496.5        496.5   26.768888   \n",
       "618  1-BRSA-605-SE  ANIDRITA                 497.0        497.0   20.404016   \n",
       "619  1-BRSA-605-SE  ANIDRITA                 498.0        498.0   23.660010   \n",
       "620  1-BRSA-605-SE  ANIDRITA                 498.5        498.5   29.753431   \n",
       "621  1-BRSA-605-SE  ANIDRITA                 499.0        499.0   57.487305   \n",
       "642  1-BRSA-605-SE  ANIDRITA                 515.0        515.0   31.883303   \n",
       "643  1-BRSA-605-SE  ANIDRITA                 516.0        516.0   53.136738   \n",
       "644  1-BRSA-605-SE  ANIDRITA                 516.5        516.5   57.315002   \n",
       "645  1-BRSA-605-SE  ANIDRITA                 518.0        518.0   42.165176   \n",
       "646  1-BRSA-605-SE  ANIDRITA                 518.5        518.5   41.966633   \n",
       "647  1-BRSA-605-SE  ANIDRITA                 519.5        519.5   31.600296   \n",
       "648  1-BRSA-605-SE  ANIDRITA                 520.0        520.0   33.406734   \n",
       "649  1-BRSA-605-SE  ANIDRITA                 521.5        521.5   37.739754   \n",
       "650  1-BRSA-605-SE  ANIDRITA                 522.0        522.0   35.205307   \n",
       "651  1-BRSA-605-SE  ANIDRITA                 523.0        523.0   48.930027   \n",
       "652  1-BRSA-605-SE  ANIDRITA                 523.5        523.5   53.263226   \n",
       "653  1-BRSA-605-SE  ANIDRITA                 524.0        524.0   52.879536   \n",
       "654  1-BRSA-605-SE  ANIDRITA                 525.0        525.0   53.921467   \n",
       "655  1-BRSA-605-SE  ANIDRITA                 525.5        525.5   67.276596   \n",
       "656  1-BRSA-605-SE  ANIDRITA                 526.5        526.5   62.113354   \n",
       "657  1-BRSA-605-SE  ANIDRITA                 527.0        527.0   49.658220   \n",
       "658  1-BRSA-605-SE  ANIDRITA                 527.5        527.5   67.141670   \n",
       "659  1-BRSA-605-SE  ANIDRITA                 528.5        528.5  118.656590   \n",
       "\n",
       "        GR_dlis  Diferença GR  \n",
       "568   50.378628  2.229004e-07  \n",
       "569   52.740742 -1.729736e-06  \n",
       "597   24.169436  4.989014e-07  \n",
       "598   27.013620 -3.765869e-07  \n",
       "599   23.636969  3.873291e-07  \n",
       "601   62.256519  6.823730e-07  \n",
       "602   27.865974 -4.262695e-07  \n",
       "603   21.722290 -3.906250e-08  \n",
       "604   24.484602  2.551269e-08  \n",
       "605   23.354660 -3.417969e-08  \n",
       "606   20.973925  3.631592e-07  \n",
       "607   25.891218 -1.854248e-07  \n",
       "608   21.003962  4.368896e-07  \n",
       "609   24.130018 -2.342529e-07  \n",
       "610   22.761412  3.331299e-07  \n",
       "611   34.887325 -2.868652e-07  \n",
       "612   39.029739  6.201172e-07  \n",
       "613   38.403637  6.762696e-08  \n",
       "614   28.658461 -6.170654e-07  \n",
       "615   27.074808 -1.207275e-07  \n",
       "616   36.303097  2.287598e-07  \n",
       "617   26.768888 -4.735107e-07  \n",
       "618   20.404016 -4.947510e-07  \n",
       "619   23.660009  6.158447e-07  \n",
       "620   29.753431 -3.201904e-07  \n",
       "621   57.487305  3.125000e-07  \n",
       "642   31.883303  3.114014e-07  \n",
       "643   53.136738  1.765137e-07  \n",
       "644   57.315002 -4.414063e-07  \n",
       "645   42.165176 -3.916016e-07  \n",
       "646   41.966633  1.569824e-07  \n",
       "647   31.600296 -2.050781e-08  \n",
       "648   33.406734 -4.665527e-07  \n",
       "649   37.739754  2.768555e-07  \n",
       "650   35.205307 -6.835940e-09  \n",
       "651   48.930027 -8.056638e-09  \n",
       "652   53.263226  4.445801e-07  \n",
       "653   52.879536  3.249512e-07  \n",
       "654   53.921467  1.726074e-07  \n",
       "655   67.276596 -6.933594e-08  \n",
       "656   62.113354  2.707520e-07  \n",
       "657   49.658218  1.616211e-06  \n",
       "658   67.141670 -2.270508e-07  \n",
       "659  118.656593 -3.322754e-06  "
      ]
     },
     "execution_count": 39,
     "metadata": {},
     "output_type": "execute_result"
    }
   ],
   "source": [
    "calcular_diferenca(anidrita_595, 'GR_fusão', 'GR_dlis', 'Diferença GR')\n",
    "calcular_diferenca(anidrita_605, 'GR_fusão', 'GR_dlis', 'Diferença GR')"
   ]
  },
  {
   "cell_type": "code",
   "execution_count": null,
   "metadata": {},
   "outputs": [
    {
     "ename": "PermissionError",
     "evalue": "[Errno 13] Permission denied: 'gr_anidrita_595.xlsx'",
     "output_type": "error",
     "traceback": [
      "\u001b[1;31m---------------------------------------------------------------------------\u001b[0m",
      "\u001b[1;31mPermissionError\u001b[0m                           Traceback (most recent call last)",
      "Cell \u001b[1;32mIn[40], line 4\u001b[0m\n\u001b[0;32m      1\u001b[0m teste_gr_anidrita_595 \u001b[38;5;241m=\u001b[39m anidrita_595\u001b[38;5;241m.\u001b[39mto_csv(\u001b[38;5;124m'\u001b[39m\u001b[38;5;124mtest_gr_anidrita_595.csv\u001b[39m\u001b[38;5;124m'\u001b[39m, index\u001b[38;5;241m=\u001b[39m\u001b[38;5;28;01mFalse\u001b[39;00m)\n\u001b[0;32m      2\u001b[0m teste_gr_anidrita_605 \u001b[38;5;241m=\u001b[39m anidrita_605\u001b[38;5;241m.\u001b[39mto_csv(\u001b[38;5;124m'\u001b[39m\u001b[38;5;124mtest_gr_anidrita_605.csv\u001b[39m\u001b[38;5;124m'\u001b[39m, index\u001b[38;5;241m=\u001b[39m\u001b[38;5;28;01mFalse\u001b[39;00m)\n\u001b[1;32m----> 4\u001b[0m \u001b[43manidrita_595\u001b[49m\u001b[38;5;241;43m.\u001b[39;49m\u001b[43mto_excel\u001b[49m\u001b[43m(\u001b[49m\u001b[38;5;124;43m'\u001b[39;49m\u001b[38;5;124;43mgr_anidrita_595.xlsx\u001b[39;49m\u001b[38;5;124;43m'\u001b[39;49m\u001b[43m,\u001b[49m\u001b[43m \u001b[49m\u001b[43mindex\u001b[49m\u001b[38;5;241;43m=\u001b[39;49m\u001b[38;5;28;43;01mFalse\u001b[39;49;00m\u001b[43m)\u001b[49m\n\u001b[0;32m      5\u001b[0m anidrita_605\u001b[38;5;241m.\u001b[39mto_excel(\u001b[38;5;124m'\u001b[39m\u001b[38;5;124mgr_anidrita_605.xlsx\u001b[39m\u001b[38;5;124m'\u001b[39m, index\u001b[38;5;241m=\u001b[39m\u001b[38;5;28;01mFalse\u001b[39;00m)\n",
      "File \u001b[1;32mc:\\Users\\rafae\\AppData\\Local\\Programs\\Python\\Python310\\lib\\site-packages\\pandas\\core\\generic.py:2345\u001b[0m, in \u001b[0;36mNDFrame.to_excel\u001b[1;34m(self, excel_writer, sheet_name, na_rep, float_format, columns, header, index, index_label, startrow, startcol, engine, merge_cells, inf_rep, freeze_panes, storage_options, engine_kwargs)\u001b[0m\n\u001b[0;32m   2332\u001b[0m \u001b[38;5;28;01mfrom\u001b[39;00m \u001b[38;5;21;01mpandas\u001b[39;00m\u001b[38;5;21;01m.\u001b[39;00m\u001b[38;5;21;01mio\u001b[39;00m\u001b[38;5;21;01m.\u001b[39;00m\u001b[38;5;21;01mformats\u001b[39;00m\u001b[38;5;21;01m.\u001b[39;00m\u001b[38;5;21;01mexcel\u001b[39;00m \u001b[38;5;28;01mimport\u001b[39;00m ExcelFormatter\n\u001b[0;32m   2334\u001b[0m formatter \u001b[38;5;241m=\u001b[39m ExcelFormatter(\n\u001b[0;32m   2335\u001b[0m     df,\n\u001b[0;32m   2336\u001b[0m     na_rep\u001b[38;5;241m=\u001b[39mna_rep,\n\u001b[1;32m   (...)\u001b[0m\n\u001b[0;32m   2343\u001b[0m     inf_rep\u001b[38;5;241m=\u001b[39minf_rep,\n\u001b[0;32m   2344\u001b[0m )\n\u001b[1;32m-> 2345\u001b[0m \u001b[43mformatter\u001b[49m\u001b[38;5;241;43m.\u001b[39;49m\u001b[43mwrite\u001b[49m\u001b[43m(\u001b[49m\n\u001b[0;32m   2346\u001b[0m \u001b[43m    \u001b[49m\u001b[43mexcel_writer\u001b[49m\u001b[43m,\u001b[49m\n\u001b[0;32m   2347\u001b[0m \u001b[43m    \u001b[49m\u001b[43msheet_name\u001b[49m\u001b[38;5;241;43m=\u001b[39;49m\u001b[43msheet_name\u001b[49m\u001b[43m,\u001b[49m\n\u001b[0;32m   2348\u001b[0m \u001b[43m    \u001b[49m\u001b[43mstartrow\u001b[49m\u001b[38;5;241;43m=\u001b[39;49m\u001b[43mstartrow\u001b[49m\u001b[43m,\u001b[49m\n\u001b[0;32m   2349\u001b[0m \u001b[43m    \u001b[49m\u001b[43mstartcol\u001b[49m\u001b[38;5;241;43m=\u001b[39;49m\u001b[43mstartcol\u001b[49m\u001b[43m,\u001b[49m\n\u001b[0;32m   2350\u001b[0m \u001b[43m    \u001b[49m\u001b[43mfreeze_panes\u001b[49m\u001b[38;5;241;43m=\u001b[39;49m\u001b[43mfreeze_panes\u001b[49m\u001b[43m,\u001b[49m\n\u001b[0;32m   2351\u001b[0m \u001b[43m    \u001b[49m\u001b[43mengine\u001b[49m\u001b[38;5;241;43m=\u001b[39;49m\u001b[43mengine\u001b[49m\u001b[43m,\u001b[49m\n\u001b[0;32m   2352\u001b[0m \u001b[43m    \u001b[49m\u001b[43mstorage_options\u001b[49m\u001b[38;5;241;43m=\u001b[39;49m\u001b[43mstorage_options\u001b[49m\u001b[43m,\u001b[49m\n\u001b[0;32m   2353\u001b[0m \u001b[43m    \u001b[49m\u001b[43mengine_kwargs\u001b[49m\u001b[38;5;241;43m=\u001b[39;49m\u001b[43mengine_kwargs\u001b[49m\u001b[43m,\u001b[49m\n\u001b[0;32m   2354\u001b[0m \u001b[43m\u001b[49m\u001b[43m)\u001b[49m\n",
      "File \u001b[1;32mc:\\Users\\rafae\\AppData\\Local\\Programs\\Python\\Python310\\lib\\site-packages\\pandas\\io\\formats\\excel.py:946\u001b[0m, in \u001b[0;36mExcelFormatter.write\u001b[1;34m(self, writer, sheet_name, startrow, startcol, freeze_panes, engine, storage_options, engine_kwargs)\u001b[0m\n\u001b[0;32m    942\u001b[0m     need_save \u001b[38;5;241m=\u001b[39m \u001b[38;5;28;01mFalse\u001b[39;00m\n\u001b[0;32m    943\u001b[0m \u001b[38;5;28;01melse\u001b[39;00m:\n\u001b[0;32m    944\u001b[0m     \u001b[38;5;66;03m# error: Cannot instantiate abstract class 'ExcelWriter' with abstract\u001b[39;00m\n\u001b[0;32m    945\u001b[0m     \u001b[38;5;66;03m# attributes 'engine', 'save', 'supported_extensions' and 'write_cells'\u001b[39;00m\n\u001b[1;32m--> 946\u001b[0m     writer \u001b[38;5;241m=\u001b[39m \u001b[43mExcelWriter\u001b[49m\u001b[43m(\u001b[49m\u001b[43m  \u001b[49m\u001b[38;5;66;43;03m# type: ignore[abstract]\u001b[39;49;00m\n\u001b[0;32m    947\u001b[0m \u001b[43m        \u001b[49m\u001b[43mwriter\u001b[49m\u001b[43m,\u001b[49m\n\u001b[0;32m    948\u001b[0m \u001b[43m        \u001b[49m\u001b[43mengine\u001b[49m\u001b[38;5;241;43m=\u001b[39;49m\u001b[43mengine\u001b[49m\u001b[43m,\u001b[49m\n\u001b[0;32m    949\u001b[0m \u001b[43m        \u001b[49m\u001b[43mstorage_options\u001b[49m\u001b[38;5;241;43m=\u001b[39;49m\u001b[43mstorage_options\u001b[49m\u001b[43m,\u001b[49m\n\u001b[0;32m    950\u001b[0m \u001b[43m        \u001b[49m\u001b[43mengine_kwargs\u001b[49m\u001b[38;5;241;43m=\u001b[39;49m\u001b[43mengine_kwargs\u001b[49m\u001b[43m,\u001b[49m\n\u001b[0;32m    951\u001b[0m \u001b[43m    \u001b[49m\u001b[43m)\u001b[49m\n\u001b[0;32m    952\u001b[0m     need_save \u001b[38;5;241m=\u001b[39m \u001b[38;5;28;01mTrue\u001b[39;00m\n\u001b[0;32m    954\u001b[0m \u001b[38;5;28;01mtry\u001b[39;00m:\n",
      "File \u001b[1;32mc:\\Users\\rafae\\AppData\\Local\\Programs\\Python\\Python310\\lib\\site-packages\\pandas\\io\\excel\\_openpyxl.py:61\u001b[0m, in \u001b[0;36mOpenpyxlWriter.__init__\u001b[1;34m(self, path, engine, date_format, datetime_format, mode, storage_options, if_sheet_exists, engine_kwargs, **kwargs)\u001b[0m\n\u001b[0;32m     57\u001b[0m \u001b[38;5;28;01mfrom\u001b[39;00m \u001b[38;5;21;01mopenpyxl\u001b[39;00m\u001b[38;5;21;01m.\u001b[39;00m\u001b[38;5;21;01mworkbook\u001b[39;00m \u001b[38;5;28;01mimport\u001b[39;00m Workbook\n\u001b[0;32m     59\u001b[0m engine_kwargs \u001b[38;5;241m=\u001b[39m combine_kwargs(engine_kwargs, kwargs)\n\u001b[1;32m---> 61\u001b[0m \u001b[38;5;28;43msuper\u001b[39;49m\u001b[43m(\u001b[49m\u001b[43m)\u001b[49m\u001b[38;5;241;43m.\u001b[39;49m\u001b[38;5;21;43m__init__\u001b[39;49m\u001b[43m(\u001b[49m\n\u001b[0;32m     62\u001b[0m \u001b[43m    \u001b[49m\u001b[43mpath\u001b[49m\u001b[43m,\u001b[49m\n\u001b[0;32m     63\u001b[0m \u001b[43m    \u001b[49m\u001b[43mmode\u001b[49m\u001b[38;5;241;43m=\u001b[39;49m\u001b[43mmode\u001b[49m\u001b[43m,\u001b[49m\n\u001b[0;32m     64\u001b[0m \u001b[43m    \u001b[49m\u001b[43mstorage_options\u001b[49m\u001b[38;5;241;43m=\u001b[39;49m\u001b[43mstorage_options\u001b[49m\u001b[43m,\u001b[49m\n\u001b[0;32m     65\u001b[0m \u001b[43m    \u001b[49m\u001b[43mif_sheet_exists\u001b[49m\u001b[38;5;241;43m=\u001b[39;49m\u001b[43mif_sheet_exists\u001b[49m\u001b[43m,\u001b[49m\n\u001b[0;32m     66\u001b[0m \u001b[43m    \u001b[49m\u001b[43mengine_kwargs\u001b[49m\u001b[38;5;241;43m=\u001b[39;49m\u001b[43mengine_kwargs\u001b[49m\u001b[43m,\u001b[49m\n\u001b[0;32m     67\u001b[0m \u001b[43m\u001b[49m\u001b[43m)\u001b[49m\n\u001b[0;32m     69\u001b[0m \u001b[38;5;66;03m# ExcelWriter replaced \"a\" by \"r+\" to allow us to first read the excel file from\u001b[39;00m\n\u001b[0;32m     70\u001b[0m \u001b[38;5;66;03m# the file and later write to it\u001b[39;00m\n\u001b[0;32m     71\u001b[0m \u001b[38;5;28;01mif\u001b[39;00m \u001b[38;5;124m\"\u001b[39m\u001b[38;5;124mr+\u001b[39m\u001b[38;5;124m\"\u001b[39m \u001b[38;5;129;01min\u001b[39;00m \u001b[38;5;28mself\u001b[39m\u001b[38;5;241m.\u001b[39m_mode:  \u001b[38;5;66;03m# Load from existing workbook\u001b[39;00m\n",
      "File \u001b[1;32mc:\\Users\\rafae\\AppData\\Local\\Programs\\Python\\Python310\\lib\\site-packages\\pandas\\io\\excel\\_base.py:1263\u001b[0m, in \u001b[0;36mExcelWriter.__init__\u001b[1;34m(self, path, engine, date_format, datetime_format, mode, storage_options, if_sheet_exists, engine_kwargs)\u001b[0m\n\u001b[0;32m   1259\u001b[0m \u001b[38;5;28mself\u001b[39m\u001b[38;5;241m.\u001b[39m_handles \u001b[38;5;241m=\u001b[39m IOHandles(\n\u001b[0;32m   1260\u001b[0m     cast(IO[\u001b[38;5;28mbytes\u001b[39m], path), compression\u001b[38;5;241m=\u001b[39m{\u001b[38;5;124m\"\u001b[39m\u001b[38;5;124mcompression\u001b[39m\u001b[38;5;124m\"\u001b[39m: \u001b[38;5;28;01mNone\u001b[39;00m}\n\u001b[0;32m   1261\u001b[0m )\n\u001b[0;32m   1262\u001b[0m \u001b[38;5;28;01mif\u001b[39;00m \u001b[38;5;129;01mnot\u001b[39;00m \u001b[38;5;28misinstance\u001b[39m(path, ExcelWriter):\n\u001b[1;32m-> 1263\u001b[0m     \u001b[38;5;28mself\u001b[39m\u001b[38;5;241m.\u001b[39m_handles \u001b[38;5;241m=\u001b[39m \u001b[43mget_handle\u001b[49m\u001b[43m(\u001b[49m\n\u001b[0;32m   1264\u001b[0m \u001b[43m        \u001b[49m\u001b[43mpath\u001b[49m\u001b[43m,\u001b[49m\u001b[43m \u001b[49m\u001b[43mmode\u001b[49m\u001b[43m,\u001b[49m\u001b[43m \u001b[49m\u001b[43mstorage_options\u001b[49m\u001b[38;5;241;43m=\u001b[39;49m\u001b[43mstorage_options\u001b[49m\u001b[43m,\u001b[49m\u001b[43m \u001b[49m\u001b[43mis_text\u001b[49m\u001b[38;5;241;43m=\u001b[39;49m\u001b[38;5;28;43;01mFalse\u001b[39;49;00m\n\u001b[0;32m   1265\u001b[0m \u001b[43m    \u001b[49m\u001b[43m)\u001b[49m\n\u001b[0;32m   1266\u001b[0m \u001b[38;5;28mself\u001b[39m\u001b[38;5;241m.\u001b[39m_cur_sheet \u001b[38;5;241m=\u001b[39m \u001b[38;5;28;01mNone\u001b[39;00m\n\u001b[0;32m   1268\u001b[0m \u001b[38;5;28;01mif\u001b[39;00m date_format \u001b[38;5;129;01mis\u001b[39;00m \u001b[38;5;28;01mNone\u001b[39;00m:\n",
      "File \u001b[1;32mc:\\Users\\rafae\\AppData\\Local\\Programs\\Python\\Python310\\lib\\site-packages\\pandas\\io\\common.py:872\u001b[0m, in \u001b[0;36mget_handle\u001b[1;34m(path_or_buf, mode, encoding, compression, memory_map, is_text, errors, storage_options)\u001b[0m\n\u001b[0;32m    863\u001b[0m         handle \u001b[38;5;241m=\u001b[39m \u001b[38;5;28mopen\u001b[39m(\n\u001b[0;32m    864\u001b[0m             handle,\n\u001b[0;32m    865\u001b[0m             ioargs\u001b[38;5;241m.\u001b[39mmode,\n\u001b[1;32m   (...)\u001b[0m\n\u001b[0;32m    868\u001b[0m             newline\u001b[38;5;241m=\u001b[39m\u001b[38;5;124m\"\u001b[39m\u001b[38;5;124m\"\u001b[39m,\n\u001b[0;32m    869\u001b[0m         )\n\u001b[0;32m    870\u001b[0m     \u001b[38;5;28;01melse\u001b[39;00m:\n\u001b[0;32m    871\u001b[0m         \u001b[38;5;66;03m# Binary mode\u001b[39;00m\n\u001b[1;32m--> 872\u001b[0m         handle \u001b[38;5;241m=\u001b[39m \u001b[38;5;28;43mopen\u001b[39;49m\u001b[43m(\u001b[49m\u001b[43mhandle\u001b[49m\u001b[43m,\u001b[49m\u001b[43m \u001b[49m\u001b[43mioargs\u001b[49m\u001b[38;5;241;43m.\u001b[39;49m\u001b[43mmode\u001b[49m\u001b[43m)\u001b[49m\n\u001b[0;32m    873\u001b[0m     handles\u001b[38;5;241m.\u001b[39mappend(handle)\n\u001b[0;32m    875\u001b[0m \u001b[38;5;66;03m# Convert BytesIO or file objects passed with an encoding\u001b[39;00m\n",
      "\u001b[1;31mPermissionError\u001b[0m: [Errno 13] Permission denied: 'gr_anidrita_595.xlsx'"
     ]
    }
   ],
   "source": [
    "teste_gr_anidrita_595 = anidrita_595.to_csv('test_gr_anidrita_595.csv', index=False)\n",
    "teste_gr_anidrita_605 = anidrita_605.to_csv('test_gr_anidrita_605.csv', index=False)\n",
    "\n",
    "anidrita_595.to_excel('gr_anidrita_595.xlsx', index=False)\n",
    "anidrita_605.to_excel('gr_anidrita_605.xlsx', index=False)"
   ]
  },
  {
   "cell_type": "code",
   "execution_count": null,
   "metadata": {},
   "outputs": [
    {
     "data": {
      "text/plain": [
       "<matplotlib.legend.Legend at 0x26fbe038b20>"
      ]
     },
     "execution_count": 56,
     "metadata": {},
     "output_type": "execute_result"
    },
    {
     "data": {
      "image/png": "[encoded data removed]",
      "text/plain": [
       "<Figure size 500x1500 with 1 Axes>"
      ]
     },
     "metadata": {},
     "output_type": "display_data"
    }
   ],
   "source": [
    "import matplotlib.pyplot as plt\n",
    "\n",
    "plt.figure(figsize=(5,15))\n",
    "plt.scatter(anidrita_595['GR_fusão'], anidrita_595['Profundidade (fusão)'], label='Dados fusão', color='red', s=10)\n",
    "plt.scatter(anidrita_595['GR_dlis'], anidrita_595['TDEP (dlis)'], label='Dados dlis',color='blue', s=3)\n",
    "plt.title('P_595 - Profundidade X GR (Anidrita)', fontweight='bold')\n",
    "plt.xlabel('GR', fontweight='bold')\n",
    "plt.ylabel('Profundidade', fontweight='bold')\n",
    "plt.legend()"
   ]
  },
  {
   "cell_type": "code",
   "execution_count": null,
   "metadata": {},
   "outputs": [
    {
     "data": {
      "text/plain": [
       "<matplotlib.legend.Legend at 0x26fbe0d2f80>"
      ]
     },
     "execution_count": 57,
     "metadata": {},
     "output_type": "execute_result"
    },
    {
     "data": {
      "image/png": "[encoded data removed]",
      "text/plain": [
       "<Figure size 500x1500 with 1 Axes>"
      ]
     },
     "metadata": {},
     "output_type": "display_data"
    }
   ],
   "source": [
    "plt.figure(figsize=(5,15))\n",
    "plt.scatter(anidrita_605['GR_fusão'], anidrita_605['Profundidade (fusão)'], label='Dados fusão', color='red', s=10)\n",
    "plt.scatter(anidrita_605['GR_dlis'], anidrita_605['TDEP (dlis)'], label='Dados dlis',color='blue', s=3)\n",
    "plt.title('P_605 - Profundidade X GR (Anidrita)', fontweight='bold')\n",
    "plt.xlabel('GR', fontweight='bold')\n",
    "plt.ylabel('Profundidade', fontweight='bold')\n",
    "plt.legend()"
   ]
  },
  {
   "cell_type": "markdown",
   "metadata": {},
   "source": [
    "#### Arenito (valores de GR muito altos)"
   ]
  },
  {
   "cell_type": "code",
   "execution_count": null,
   "metadata": {},
   "outputs": [],
   "source": [
    "arenito_595 = fusao_595[profundidade_litologia_gr]\n",
    "arenito_605 = fusao_605[profundidade_litologia_gr]"
   ]
  },
  {
   "cell_type": "code",
   "execution_count": null,
   "metadata": {},
   "outputs": [],
   "source": [
    "arenito_595 = pd.merge(arenito_595, dlis_595, left_on='Profundidade', right_on='TDEP')\n",
    "arenito_605 = pd.merge(arenito_605, dlis_605, left_on='Profundidade', right_on='TDEP')"
   ]
  },
  {
   "cell_type": "code",
   "execution_count": null,
   "metadata": {},
   "outputs": [],
   "source": [
    "renomeia_coluna(arenito_595, 'GR_x', 'GR_fusão')\n",
    "renomeia_coluna(arenito_595, 'GR_y', 'GR_dlis')\n",
    "\n",
    "renomeia_coluna(arenito_595, 'Profundidade', 'Profundidade (fusão)')\n",
    "renomeia_coluna(arenito_595, 'TDEP', 'TDEP (dlis)')"
   ]
  },
  {
   "cell_type": "code",
   "execution_count": null,
   "metadata": {},
   "outputs": [],
   "source": [
    "renomeia_coluna(arenito_605, 'GR_x', 'GR_fusão')\n",
    "renomeia_coluna(arenito_605, 'GR_y', 'GR_dlis')\n",
    "\n",
    "renomeia_coluna(arenito_605, 'Profundidade', 'Profundidade (fusão)')\n",
    "renomeia_coluna(arenito_605, 'TDEP', 'TDEP (dlis)')"
   ]
  },
  {
   "cell_type": "code",
   "execution_count": null,
   "metadata": {},
   "outputs": [],
   "source": [
    "arenito_595 = arenito_595.reindex(columns=['Poço', 'Litologia', 'Profundidade (fusão)', 'TDEP (dlis)', 'GR_fusão', 'GR_dlis'])\n",
    "arenito_605 = arenito_605.reindex(columns=['Poço', 'Litologia', 'Profundidade (fusão)', 'TDEP (dlis)', 'GR_fusão', 'GR_dlis'])"
   ]
  },
  {
   "cell_type": "code",
   "execution_count": null,
   "metadata": {},
   "outputs": [],
   "source": [
    "arenito_595 = arenito_595[arenito_595['Litologia'] == 'ARENITO']\n",
    "arenito_605 = arenito_605[arenito_605['Litologia'] == 'ARENITO']"
   ]
  },
  {
   "cell_type": "code",
   "execution_count": null,
   "metadata": {},
   "outputs": [
    {
     "name": "stderr",
     "output_type": "stream",
     "text": [
      "c:\\Users\\rafae\\Documents\\College\\PIBIC\\Rafael-AnaliseDados\\pre_processamento.py:220: SettingWithCopyWarning: \n",
      "A value is trying to be set on a copy of a slice from a DataFrame.\n",
      "Try using .loc[row_indexer,col_indexer] = value instead\n",
      "\n",
      "See the caveats in the documentation: https://pandas.pydata.org/pandas-docs/stable/user_guide/indexing.html#returning-a-view-versus-a-copy\n",
      "  df[nova_coluna] = df[coluna1].fillna(0) - df[coluna2].fillna(0)\n"
     ]
    },
    {
     "data": {
      "text/html": [
       "<div>\n",
       "<style scoped>\n",
       "    .dataframe tbody tr th:only-of-type {\n",
       "        vertical-align: middle;\n",
       "    }\n",
       "\n",
       "    .dataframe tbody tr th {\n",
       "        vertical-align: top;\n",
       "    }\n",
       "\n",
       "    .dataframe thead th {\n",
       "        text-align: right;\n",
       "    }\n",
       "</style>\n",
       "<table border=\"1\" class=\"dataframe\">\n",
       "  <thead>\n",
       "    <tr style=\"text-align: right;\">\n",
       "      <th></th>\n",
       "      <th>Poço</th>\n",
       "      <th>Litologia</th>\n",
       "      <th>Profundidade (fusão)</th>\n",
       "      <th>TDEP (dlis)</th>\n",
       "      <th>GR_fusão</th>\n",
       "      <th>GR_dlis</th>\n",
       "      <th>Diferença GR</th>\n",
       "    </tr>\n",
       "  </thead>\n",
       "  <tbody>\n",
       "    <tr>\n",
       "      <th>123</th>\n",
       "      <td>1-BRSA-605-SE</td>\n",
       "      <td>ARENITO</td>\n",
       "      <td>119.0</td>\n",
       "      <td>119.0</td>\n",
       "      <td>60.573795</td>\n",
       "      <td>60.573795</td>\n",
       "      <td>-3.186035e-07</td>\n",
       "    </tr>\n",
       "    <tr>\n",
       "      <th>124</th>\n",
       "      <td>1-BRSA-605-SE</td>\n",
       "      <td>ARENITO</td>\n",
       "      <td>119.5</td>\n",
       "      <td>119.5</td>\n",
       "      <td>53.916730</td>\n",
       "      <td>53.916729</td>\n",
       "      <td>1.026611e-06</td>\n",
       "    </tr>\n",
       "    <tr>\n",
       "      <th>140</th>\n",
       "      <td>1-BRSA-605-SE</td>\n",
       "      <td>ARENITO</td>\n",
       "      <td>132.0</td>\n",
       "      <td>132.0</td>\n",
       "      <td>62.785410</td>\n",
       "      <td>62.785412</td>\n",
       "      <td>-1.834717e-06</td>\n",
       "    </tr>\n",
       "    <tr>\n",
       "      <th>144</th>\n",
       "      <td>1-BRSA-605-SE</td>\n",
       "      <td>ARENITO</td>\n",
       "      <td>135.0</td>\n",
       "      <td>135.0</td>\n",
       "      <td>63.444170</td>\n",
       "      <td>63.444172</td>\n",
       "      <td>-1.905518e-06</td>\n",
       "    </tr>\n",
       "    <tr>\n",
       "      <th>145</th>\n",
       "      <td>1-BRSA-605-SE</td>\n",
       "      <td>ARENITO</td>\n",
       "      <td>135.5</td>\n",
       "      <td>135.5</td>\n",
       "      <td>46.004444</td>\n",
       "      <td>46.004444</td>\n",
       "      <td>-1.223145e-07</td>\n",
       "    </tr>\n",
       "    <tr>\n",
       "      <th>...</th>\n",
       "      <td>...</td>\n",
       "      <td>...</td>\n",
       "      <td>...</td>\n",
       "      <td>...</td>\n",
       "      <td>...</td>\n",
       "      <td>...</td>\n",
       "      <td>...</td>\n",
       "    </tr>\n",
       "    <tr>\n",
       "      <th>815</th>\n",
       "      <td>1-BRSA-605-SE</td>\n",
       "      <td>ARENITO</td>\n",
       "      <td>648.0</td>\n",
       "      <td>648.0</td>\n",
       "      <td>81.982124</td>\n",
       "      <td>81.982124</td>\n",
       "      <td>-3.286133e-07</td>\n",
       "    </tr>\n",
       "    <tr>\n",
       "      <th>816</th>\n",
       "      <td>1-BRSA-605-SE</td>\n",
       "      <td>ARENITO</td>\n",
       "      <td>648.5</td>\n",
       "      <td>648.5</td>\n",
       "      <td>110.318080</td>\n",
       "      <td>110.318077</td>\n",
       "      <td>2.912598e-06</td>\n",
       "    </tr>\n",
       "    <tr>\n",
       "      <th>817</th>\n",
       "      <td>1-BRSA-605-SE</td>\n",
       "      <td>ARENITO</td>\n",
       "      <td>649.5</td>\n",
       "      <td>649.5</td>\n",
       "      <td>79.515550</td>\n",
       "      <td>79.515549</td>\n",
       "      <td>1.293945e-06</td>\n",
       "    </tr>\n",
       "    <tr>\n",
       "      <th>819</th>\n",
       "      <td>1-BRSA-605-SE</td>\n",
       "      <td>ARENITO</td>\n",
       "      <td>651.5</td>\n",
       "      <td>651.5</td>\n",
       "      <td>108.083960</td>\n",
       "      <td>108.083961</td>\n",
       "      <td>-1.486816e-06</td>\n",
       "    </tr>\n",
       "    <tr>\n",
       "      <th>820</th>\n",
       "      <td>1-BRSA-605-SE</td>\n",
       "      <td>ARENITO</td>\n",
       "      <td>652.0</td>\n",
       "      <td>652.0</td>\n",
       "      <td>87.314230</td>\n",
       "      <td>87.314232</td>\n",
       "      <td>-1.872559e-06</td>\n",
       "    </tr>\n",
       "  </tbody>\n",
       "</table>\n",
       "<p>189 rows × 7 columns</p>\n",
       "</div>"
      ],
      "text/plain": [
       "              Poço Litologia  Profundidade (fusão)  TDEP (dlis)    GR_fusão  \\\n",
       "123  1-BRSA-605-SE   ARENITO                 119.0        119.0   60.573795   \n",
       "124  1-BRSA-605-SE   ARENITO                 119.5        119.5   53.916730   \n",
       "140  1-BRSA-605-SE   ARENITO                 132.0        132.0   62.785410   \n",
       "144  1-BRSA-605-SE   ARENITO                 135.0        135.0   63.444170   \n",
       "145  1-BRSA-605-SE   ARENITO                 135.5        135.5   46.004444   \n",
       "..             ...       ...                   ...          ...         ...   \n",
       "815  1-BRSA-605-SE   ARENITO                 648.0        648.0   81.982124   \n",
       "816  1-BRSA-605-SE   ARENITO                 648.5        648.5  110.318080   \n",
       "817  1-BRSA-605-SE   ARENITO                 649.5        649.5   79.515550   \n",
       "819  1-BRSA-605-SE   ARENITO                 651.5        651.5  108.083960   \n",
       "820  1-BRSA-605-SE   ARENITO                 652.0        652.0   87.314230   \n",
       "\n",
       "        GR_dlis  Diferença GR  \n",
       "123   60.573795 -3.186035e-07  \n",
       "124   53.916729  1.026611e-06  \n",
       "140   62.785412 -1.834717e-06  \n",
       "144   63.444172 -1.905518e-06  \n",
       "145   46.004444 -1.223145e-07  \n",
       "..          ...           ...  \n",
       "815   81.982124 -3.286133e-07  \n",
       "816  110.318077  2.912598e-06  \n",
       "817   79.515549  1.293945e-06  \n",
       "819  108.083961 -1.486816e-06  \n",
       "820   87.314232 -1.872559e-06  \n",
       "\n",
       "[189 rows x 7 columns]"
      ]
     },
     "execution_count": 53,
     "metadata": {},
     "output_type": "execute_result"
    }
   ],
   "source": [
    "calcular_diferenca(arenito_595, 'GR_fusão', 'GR_dlis', 'Diferença GR')\n",
    "calcular_diferenca(arenito_605, 'GR_fusão', 'GR_dlis', 'Diferença GR')"
   ]
  },
  {
   "cell_type": "code",
   "execution_count": null,
   "metadata": {},
   "outputs": [],
   "source": [
    "teste_gr_arenito_595 = arenito_595.to_csv('test_gr_arenito_595.csv', index=False)\n",
    "teste_gr_arenito_605 = arenito_605.to_csv('test_gr_arenito_605.csv', index=False)\n",
    "\n",
    "arenito_595.to_excel('gr_arenito_595.xlsx', index=False)\n",
    "arenito_605.to_excel('gr_arenito_605.xlsx', index=False)"
   ]
  },
  {
   "cell_type": "code",
   "execution_count": null,
   "metadata": {},
   "outputs": [
    {
     "data": {
      "text/plain": [
       "<matplotlib.legend.Legend at 0x26fc0a4b5e0>"
      ]
     },
     "execution_count": 60,
     "metadata": {},
     "output_type": "execute_result"
    },
    {
     "data": {
      "image/png": "[encoded data removed]",
      "text/plain": [
       "<Figure size 500x1500 with 1 Axes>"
      ]
     },
     "metadata": {},
     "output_type": "display_data"
    }
   ],
   "source": [
    "plt.figure(figsize=(5,15))\n",
    "plt.scatter(arenito_595['GR_fusão'], arenito_595['Profundidade (fusão)'], label='Dados fusão', color='red', s=10)\n",
    "plt.scatter(arenito_595['GR_dlis'], arenito_595['TDEP (dlis)'], label='Dados dlis',color='blue', s=3)\n",
    "plt.title('P_595 - Profundidade X GR (arenito)', fontweight='bold')\n",
    "plt.xlabel('GR', fontweight='bold')\n",
    "plt.ylabel('Profundidade', fontweight='bold')\n",
    "plt.legend()"
   ]
  },
  {
   "cell_type": "code",
   "execution_count": null,
   "metadata": {},
   "outputs": [
    {
     "data": {
      "text/plain": [
       "<matplotlib.legend.Legend at 0x26fc04bead0>"
      ]
     },
     "execution_count": 58,
     "metadata": {},
     "output_type": "execute_result"
    },
    {
     "data": {
      "image/png": "[encoded data removed]",
      "text/plain": [
       "<Figure size 500x1500 with 1 Axes>"
      ]
     },
     "metadata": {},
     "output_type": "display_data"
    }
   ],
   "source": [
    "plt.figure(figsize=(5,15))\n",
    "plt.scatter(arenito_605['GR_fusão'], arenito_605['Profundidade (fusão)'], label='Dados fusão', color='red', s=10)\n",
    "plt.scatter(arenito_605['GR_dlis'], arenito_605['TDEP (dlis)'], label='Dados dlis',color='blue', s=3)\n",
    "plt.title('P_605 - Profundidade X GR (arenito)', fontweight='bold')\n",
    "plt.xlabel('GR', fontweight='bold')\n",
    "plt.ylabel('Profundidade', fontweight='bold')\n",
    "plt.legend()"
   ]
  },
  {
   "cell_type": "markdown",
   "metadata": {},
   "source": [
    "#### Anomalia - Folhelho (Valores de GR baixos)"
   ]
  },
  {
   "cell_type": "code",
   "execution_count": null,
   "metadata": {},
   "outputs": [],
   "source": [
    "folhelho_595 = fusao_595[profundidade_litologia_gr]\n",
    "folhelho_605 = fusao_605[profundidade_litologia_gr]\n",
    "\n",
    "folhelho_595 = pd.merge(folhelho_595, dlis_595, left_on='Profundidade', right_on='TDEP')\n",
    "folhelho_605 = pd.merge(folhelho_605, dlis_605, left_on='Profundidade', right_on='TDEP')\n",
    "\n",
    "renomeia_coluna(folhelho_595, 'GR_x', 'GR_fusão')\n",
    "renomeia_coluna(folhelho_595, 'GR_y', 'GR_dlis')\n",
    "\n",
    "renomeia_coluna(folhelho_595, 'Profundidade', 'Profundidade (fusão)')\n",
    "renomeia_coluna(folhelho_595, 'TDEP', 'TDEP (dlis)')\n",
    "\n",
    "renomeia_coluna(folhelho_605, 'GR_x', 'GR_fusão')\n",
    "renomeia_coluna(folhelho_605, 'GR_y', 'GR_dlis')\n",
    "\n",
    "renomeia_coluna(folhelho_605, 'Profundidade', 'Profundidade (fusão)')\n",
    "renomeia_coluna(folhelho_605, 'TDEP', 'TDEP (dlis)')\n",
    "\n",
    "folhelho_595 = folhelho_595.reindex(columns=['Poço', 'Litologia', 'Profundidade (fusão)', 'TDEP (dlis)', 'GR_fusão', 'GR_dlis'])\n",
    "folhelho_605 = folhelho_605.reindex(columns=['Poço', 'Litologia', 'Profundidade (fusão)', 'TDEP (dlis)', 'GR_fusão', 'GR_dlis'])\n",
    "\n",
    "folhelho_595 = folhelho_595[folhelho_595['Litologia'] == 'FOLHELHO']\n",
    "folhelho_605 = folhelho_605[folhelho_605['Litologia'] == 'FOLHELHO']\n",
    "\n",
    "calcular_diferenca(folhelho_595, 'GR_fusão', 'GR_dlis', 'Diferença GR')\n",
    "calcular_diferenca(folhelho_605, 'GR_fusão', 'GR_dlis', 'Diferença GR')\n",
    "\n",
    "teste_gr_folhelho_595 = folhelho_595.to_csv('test_gr_folhelho_595.csv', index=False)\n",
    "teste_gr_folhelho_605 = folhelho_605.to_csv('test_gr_folhelho_605.csv', index=False)\n",
    "\n",
    "folhelho_595.to_excel('gr_folhelho_595.xlsx', index=False)\n",
    "folhelho_605.to_excel('gr_folhelho_605.xlsx', index=False)"
   ]
  },
  {
   "cell_type": "code",
   "execution_count": null,
   "metadata": {},
   "outputs": [
    {
     "data": {
      "text/plain": [
       "<matplotlib.legend.Legend at 0x26fc0492b60>"
      ]
     },
     "execution_count": 62,
     "metadata": {},
     "output_type": "execute_result"
    },
    {
     "data": {
      "image/png": "[encoded data removed]",
      "text/plain": [
       "<Figure size 500x1500 with 1 Axes>"
      ]
     },
     "metadata": {},
     "output_type": "display_data"
    }
   ],
   "source": [
    "plt.figure(figsize=(5,15))\n",
    "plt.scatter(folhelho_595['GR_fusão'], folhelho_595['Profundidade (fusão)'], label='Dados fusão', color='red', s=10)\n",
    "plt.scatter(folhelho_595['GR_dlis'], folhelho_595['TDEP (dlis)'], label='Dados dlis',color='blue', s=3)\n",
    "plt.title('P_595 - Profundidade X GR (folhelho)', fontweight='bold')\n",
    "plt.xlabel('GR', fontweight='bold')\n",
    "plt.ylabel('Profundidade', fontweight='bold')\n",
    "plt.legend()"
   ]
  },
  {
   "cell_type": "code",
   "execution_count": null,
   "metadata": {},
   "outputs": [
    {
     "data": {
      "text/plain": [
       "<matplotlib.legend.Legend at 0x26fc10e2b00>"
      ]
     },
     "execution_count": 63,
     "metadata": {},
     "output_type": "execute_result"
    },
    {
     "data": {
      "image/png": "[encoded data removed]",
      "text/plain": [
       "<Figure size 500x1500 with 1 Axes>"
      ]
     },
     "metadata": {},
     "output_type": "display_data"
    }
   ],
   "source": [
    "plt.figure(figsize=(5,15))\n",
    "plt.scatter(folhelho_605['GR_fusão'], folhelho_605['Profundidade (fusão)'], label='Dados fusão', color='red', s=10)\n",
    "plt.scatter(folhelho_605['GR_dlis'], folhelho_605['TDEP (dlis)'], label='Dados dlis',color='blue', s=3)\n",
    "plt.title('P_605 - Profundidade X GR (folhelho)', fontweight='bold')\n",
    "plt.xlabel('GR', fontweight='bold')\n",
    "plt.ylabel('Profundidade', fontweight='bold')\n",
    "plt.legend()"
   ]
  }
 ],
 "metadata": {
  "kernelspec": {
   "display_name": "Python 3",
   "language": "python",
   "name": "python3"
  },
  "language_info": {
   "codemirror_mode": {
    "name": "ipython",
    "version": 3
   },
   "file_extension": ".py",
   "mimetype": "text/x-python",
   "name": "python",
   "nbconvert_exporter": "python",
   "pygments_lexer": "ipython3",
   "version": "3.10.2"
  }
 },
 "nbformat": 4,
 "nbformat_minor": 2
}
