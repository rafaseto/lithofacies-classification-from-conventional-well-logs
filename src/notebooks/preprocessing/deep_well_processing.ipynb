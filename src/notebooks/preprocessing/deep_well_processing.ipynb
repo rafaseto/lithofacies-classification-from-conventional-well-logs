{
 "cells": [
  {
   "cell_type": "code",
   "execution_count": 1,
   "metadata": {},
   "outputs": [],
   "source": [
    "from pre_processamento import *\n",
    "\n",
    "from dlisio import dlis\n",
    "import pandas as pd\n",
    "import numpy as np\n",
    "\n",
    "import glob"
   ]
  },
  {
   "cell_type": "code",
   "execution_count": 2,
   "metadata": {},
   "outputs": [],
   "source": [
    "file_names = []         # Store the name of the dlis files\n",
    "dlis_raw_data = {}      # Store the result of the process of opening the dlis files\n",
    "anp_names = []          # Store the names that are extracted from the dlis files\n",
    "\n",
    "for file in glob.glob(r'**/dados/emendas' + \"/*.dlis\", recursive=True):\n",
    "    try:\n",
    "        file_names.append(file)\n",
    "\n",
    "        # Unpacks the first logical file and stores the rest into tail\n",
    "        first_logical_file, *tail = dlis.load(f'{file}')\n",
    "\n",
    "        # Gets the name stored in the dlis file\n",
    "        current_name = first_logical_file.origins[0].well_name\n",
    "        anp_names.append(current_name)\n",
    "\n",
    "        # Save the data in the dictionary 'dlis_raw_data'\n",
    "        dlis_raw_data[current_name] = [first_logical_file] + tail\n",
    "    except:\n",
    "        print(current_name)"
   ]
  },
  {
   "cell_type": "code",
   "execution_count": 3,
   "metadata": {},
   "outputs": [],
   "source": [
    "well_dict = {}\n",
    "\n",
    "for key, logical_files in dlis_raw_data.items():\n",
    "    well_dict[key] = logical_files_to_dict(logical_files)"
   ]
  }
 ],
 "metadata": {
  "kernelspec": {
   "display_name": "Python 3",
   "language": "python",
   "name": "python3"
  },
  "language_info": {
   "codemirror_mode": {
    "name": "ipython",
    "version": 3
   },
   "file_extension": ".py",
   "mimetype": "text/x-python",
   "name": "python",
   "nbconvert_exporter": "python",
   "pygments_lexer": "ipython3",
   "version": "3.10.2"
  }
 },
 "nbformat": 4,
 "nbformat_minor": 2
}
